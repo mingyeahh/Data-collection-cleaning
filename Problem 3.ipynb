{
 "cells": [
  {
   "cell_type": "code",
   "execution_count": null,
   "id": "8a23be56",
   "metadata": {},
   "outputs": [],
   "source": [
    "# sd.loc[sd['c']== 'stuff','a']=0\n",
    "# df9.replace({'Do you use any of the following cloud computing products on a regular basis? (Select all that apply) - Selected Choice - Google Compute Engine (GCE)': {\"Google Compute Engine (GCE)\": \"Google Cloud Compute Engine\"}}, inplace=True)\n",
    "\n",
    "# df9.replace({\"Do you use any of the following cloud computing products on a regular basis? (Select all that apply) - Selected Choice - None\": {\"None\": \"No / None\"}}, inplace=True)\n",
    "\n",
    "\n"
   ]
  }
 ],
 "metadata": {
  "kernelspec": {
   "display_name": "Python 3 (ipykernel)",
   "language": "python",
   "name": "python3"
  },
  "language_info": {
   "codemirror_mode": {
    "name": "ipython",
    "version": 3
   },
   "file_extension": ".py",
   "mimetype": "text/x-python",
   "name": "python",
   "nbconvert_exporter": "python",
   "pygments_lexer": "ipython3",
   "version": "3.8.3"
  }
 },
 "nbformat": 4,
 "nbformat_minor": 5
}
