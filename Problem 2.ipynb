{
 "cells": [
  {
   "cell_type": "code",
   "execution_count": 1,
   "id": "a2885b21",
   "metadata": {},
   "outputs": [],
   "source": [
    "import pandas as pd\n",
    "from pathlib import Path\n",
    "import os"
   ]
  },
  {
   "cell_type": "code",
   "execution_count": 2,
   "id": "8bdfa1f8",
   "metadata": {},
   "outputs": [
    {
     "name": "stderr",
     "output_type": "stream",
     "text": [
      "/opt/anaconda3/lib/python3.8/site-packages/IPython/core/interactiveshell.py:3444: DtypeWarning: Columns (195,201) have mixed types.Specify dtype option on import or set low_memory=False.\n",
      "  exec(code_obj, self.user_global_ns, self.user_ns)\n"
     ]
    }
   ],
   "source": [
    "# open survey 2020 and store it as a dataframe\n",
    "file2020 = Path('Kaggle') / 'kaggle_survey_2020_responses.csv'\n",
    "df0 = pd.read_csv(file2020,skiprows=1)\n",
    "# open survey 2021 and store it as a dataframe\n",
    "file2021 = Path('Kaggle') / 'kaggle_survey_2021_responses.csv'\n",
    "df1 = pd.read_csv(file2021,skiprows=1)"
   ]
  },
  {
   "cell_type": "code",
   "execution_count": 3,
   "id": "24ebca48",
   "metadata": {},
   "outputs": [],
   "source": [
    "# open 2019 files and store them as dataframes\n",
    "file2019_m = Path('Kaggle') / 'multiple_choice_responses.csv'\n",
    "df9= pd.read_csv(file2019_m,skiprows=1)\n",
    "\n"
   ]
  },
  {
   "cell_type": "code",
   "execution_count": 8,
   "id": "428fdc2a",
   "metadata": {},
   "outputs": [],
   "source": [
    "# Store surveys to sets and only leave the question part\n",
    "set2020 = set([i.split('-')[0].strip() for i in df0.columns])\n",
    "set2019 = set([i.split('-')[0].strip() for i in df9.columns])"
   ]
  },
  {
   "cell_type": "code",
   "execution_count": 9,
   "id": "09c13455",
   "metadata": {},
   "outputs": [],
   "source": [
    "# get the disjunctive union between 2020 questions and 2019 questions\n",
    "union = set2020.union(set2019)\n",
    "intersection = set2020.intersection(set2019)\n",
    "disjunctive_union = union - intersection\n",
    "# for i in disjunctive_union:\n",
    "#     print(i)"
   ]
  },
  {
   "cell_type": "code",
   "execution_count": 10,
   "id": "58fabf27",
   "metadata": {},
   "outputs": [],
   "source": [
    "intersec2020 = disjunctive_union.intersection(set2020)\n",
    "# for i in intersec2020:\n",
    "#     print(i)"
   ]
  },
  {
   "cell_type": "code",
   "execution_count": 11,
   "id": "c697b672",
   "metadata": {},
   "outputs": [],
   "source": [
    "# compare 2019survey and 2020survey, find out questions that have similar meaning\n",
    "intersec2019 = disjunctive_union.intersection(set2019)\n",
    "# for i in intersec2019:\n",
    "#     print(i)"
   ]
  },
  {
   "cell_type": "code",
   "execution_count": 12,
   "id": "a0e9db5c",
   "metadata": {},
   "outputs": [],
   "source": [
    "mapping2019 = {\n",
    "    'How long have you been writing code to analyze data (at work or at school)?': 'For how many years have you been writing code and/or programming?',\n",
    "    'Which categories of ML tools do you use on a regular basis?  (Select all that apply)': 'Do you use any automated machine learning tools (or partial AutoML tools) on a regular basis?  (Select all that apply)',\n",
    "    'Approximately how much money have you spent on machine learning and/or cloud computing products at your work in the past 5 years?':'Approximately how much money have you (or your team) spent on machine learning and/or cloud computing services at home (or at work) in the past 5 years (approximate $USD)?',\n",
    "    'Which specific big data / analytics products do you use on a regular basis? (Select all that apply)':'Which of the following big data products (relational databases, data warehouses, data lakes, or similar) do you use on a regular basis? (Select all that apply)',\n",
    "    'Which of the following relational database products do you use on a regular basis? (Select all that apply)':'Which of the following big data products (relational databases, data warehouses, data lakes, or similar) do you use on a regular basis? (Select all that apply)',\n",
    "    'Which automated machine learning tools (or partial AutoML tools) do you use on a regular basis?  (Select all that apply)':'Which of the following automated machine learning tools (or partial AutoML tools) do you use on a regular basis?  (Select all that apply)',\n",
    "    'Which specific cloud computing products do you use on a regular basis? (Select all that apply)':'Do you use any of the following cloud computing products on a regular basis? (Select all that apply)',\n",
    "    'Have you ever used a TPU (tensor processing unit)?':'Approximately how many times have you used a TPU (tensor processing unit)?',\n",
    "    'Which of the following machine learning products do you use on a regular basis? (Select all that apply)':'Do you use any of the following managed machine learning products on a regular basis? (Select all that apply)'\n",
    "}\n",
    "\n",
    "q9 = df9.columns\n",
    "for i in q9:\n",
    "    if '-' in i:\n",
    "        if i.split('-')[0].strip() in mapping2019:\n",
    "            start, rest = i.split('-',1)\n",
    "            df9.rename(columns={i: mapping2019[start.strip()] + ' -' + rest}, inplace=True)\n",
    "    \n",
    "    else:\n",
    "        if i in mapping2019:\n",
    "            df9.rename(columns={i: mapping2019[i]}, inplace=True)\n",
    "            \n",
    "      \n"
   ]
  },
  {
   "cell_type": "code",
   "execution_count": 13,
   "id": "3c9763a4",
   "metadata": {},
   "outputs": [],
   "source": [
    "mapping2020 = {\n",
    "    'Which categories of automated machine learning tools (or partial AutoML tools) do you hope to become more familiar with in the next 2 years?  (Select all that apply)':'Do you use any automated machine learning tools (or partial AutoML tools) on a regular basis?  (Select all that apply)',\n",
    "    'Do you use any of the following machine learning products on a regular basis? (Select all that apply)':'Do you use any of the following managed machine learning products on a regular basis? (Select all that apply)',\n",
    "    'In the next 2 years, do you hope to become more familiar with any of these specific machine learning products? (Select all that apply)':'Do you use any of the following managed machine learning products on a regular basis? (Select all that apply)',\n",
    "    'Which specific automated machine learning tools (or partial AutoML tools) do you hope to become more familiar with in the next 2 years?  (Select all that apply)':'Which of the following automated machine learning tools (or partial AutoML tools) do you use on a regular basis?  (Select all that apply)',\n",
    "    'Which of the following big data products (relational databases, data warehouses, data lakes, or similar) do you hope to become more familiar with in the next 2 years? (Select all that apply)':'Which of the following big data products (relational databases, data warehouses, data lakes, or similar) do you use on a regular basis? (Select all that apply)',\n",
    "    'In the next 2 years, do you hope to become more familiar with any of these specific cloud computing products? (Select all that apply)':'Do you use any of the following cloud computing products on a regular basis? (Select all that apply)',\n",
    "    'Which of the following cloud computing platforms do you hope to become more familiar with in the next 2 years?':'Which of the following cloud computing platforms do you use on a regular basis? (Select all that apply)'\n",
    "}\n",
    "q0 = df0.columns\n",
    "for i in q0:\n",
    "    if '-' in i:\n",
    "        if i.split('-')[0].strip() in mapping2020:\n",
    "            start, rest = i.split('-',1)\n",
    "            df0.rename(columns={i: mapping2020[start.strip()] + ' -' + rest}, inplace=True)\n",
    "    \n",
    "    else:\n",
    "        if i in mapping2020:\n",
    "            df0.rename(columns={i: mapping2020[i]}, inplace=True)"
   ]
  },
  {
   "cell_type": "code",
   "execution_count": 14,
   "id": "1f4dc764",
   "metadata": {},
   "outputs": [],
   "source": [
    "# drop(delete) some 2020survey questions that doesn't exist in 2019 survey\n",
    "drop0 =['In the next 2 years, do you hope to become more familiar with any of these tools for managing ML experiments? (Select all that apply)',\n",
    "'Which of the following business intelligence tools do you hope to become more familiar with in the next 2 years? (Select all that apply)',\n",
    "'What type of computing platform do you use most often for your data science projects?',\n",
    "'Which of the following business intelligence tools do you use on a regular basis? (Select all that apply)',\n",
    "'Which of the following business intelligence tools do you use most often?',\n",
    "'Which of the following big data products (relational database, data warehouse, data lake, or similar) do you use most often?',\n",
    "'Where do you publicly share or deploy your data analysis or machine learning applications? (Select all that apply)',\n",
    "'Do you use any tools to help manage machine learning experiments? (Select all that apply)']\n",
    "\n",
    "for i in q0:\n",
    "    if '-' in i:\n",
    "        if i.split('-')[0].strip() in drop0:\n",
    "            df0.drop(i, axis=1, inplace=True)\n",
    "    \n",
    "    else:\n",
    "        if i in drop0:\n",
    "            df0.drop(i, axis=1, inplace=True)\n",
    "\n",
    "\n"
   ]
  },
  {
   "cell_type": "code",
   "execution_count": 15,
   "id": "7323edfd",
   "metadata": {},
   "outputs": [],
   "source": [
    "mapping2021 = {\n",
    "    'In the next 2 years, do you hope to become more familiar with any of these managed machine learning products? (Select all that apply)':'Do you use any of the following managed machine learning products on a regular basis? (Select all that apply)',\n",
    "    'Which specific automated machine learning tools (or partial AutoML tools) do you hope to become more familiar with in the next 2 years?  (Select all that apply)':'Which of the following automated machine learning tools (or partial AutoML tools) do you use on a regular basis?  (Select all that apply)',\n",
    "    'Which of the following big data products (relational databases, data warehouses, data lakes, or similar) do you hope to become more familiar with in the next 2 years? (Select all that apply)':'Which of the following big data products (relational databases, data warehouses, data lakes, or similar) do you use on a regular basis? (Select all that apply)',\n",
    "    'In the next 2 years, do you hope to become more familiar with any of these specific cloud computing products? (Select all that apply)':'Do you use any of the following cloud computing products on a regular basis? (Select all that apply)',\n",
    "    'Which categories of automated machine learning tools (or partial AutoML tools) do you hope to become more familiar with in the next 2 years?  (Select all that apply)':'Do you use any automated machine learning tools (or partial AutoML tools) on a regular basis?  (Select all that apply)',\n",
    "    'Which of the following cloud computing platforms do you hope to become more familiar with in the next 2 years?':'Which of the following cloud computing platforms do you use on a regular basis? (Select all that apply)'\n",
    "    \n",
    "}\n",
    "q1 = df1.columns\n",
    "\n",
    "\n",
    "for i in q1:\n",
    "    if '-' in i:\n",
    "        if i.split('-')[0].strip() in mapping2021:\n",
    "            start, rest = i.split('-',1)\n",
    "            df1.rename(columns={i: mapping2021[start.strip()] + ' -' + rest}, inplace=True)\n",
    "    \n",
    "    else:\n",
    "        if i in mapping2021:\n",
    "            df1.rename(columns={i: mapping2021[i]}, inplace=True)"
   ]
  },
  {
   "cell_type": "code",
   "execution_count": 16,
   "id": "2b3791eb",
   "metadata": {},
   "outputs": [],
   "source": [
    "set2020 = set([i.split('-')[0].strip() for i in df0.columns])\n",
    "set2021 = set([i.split('-')[0].strip() for i in df1.columns])"
   ]
  },
  {
   "cell_type": "code",
   "execution_count": 17,
   "id": "94caf7ce",
   "metadata": {},
   "outputs": [],
   "source": [
    "# get the disjunctive union between 2020 questions and 2019 questions\n",
    "union = set2021.union(set2020)\n",
    "intersection = set2021.intersection(set2020)\n",
    "disjunctive_union = union - intersection\n",
    "# for i in disjunctive_union:\n",
    "#     print(i)"
   ]
  },
  {
   "cell_type": "code",
   "execution_count": 18,
   "id": "4183b4a0",
   "metadata": {},
   "outputs": [],
   "source": [
    "intersec2020 = disjunctive_union.intersection(set2020)\n",
    "# for i in intersec2020:\n",
    "#     print(i)"
   ]
  },
  {
   "cell_type": "code",
   "execution_count": 19,
   "id": "7a198f3a",
   "metadata": {
    "scrolled": true
   },
   "outputs": [],
   "source": [
    "# compare 2021survey and 2020survey, find out questions that have similar meaning\n",
    "intersec2021 = disjunctive_union.intersection(set2021)\n",
    "drop1 = []\n",
    "for i in intersec2021:\n",
    "    drop1.append(i)"
   ]
  },
  {
   "cell_type": "code",
   "execution_count": 20,
   "id": "145f42be",
   "metadata": {},
   "outputs": [],
   "source": [
    "q1 = df1.columns\n",
    "# drop(delete) some 2021survey questions that doesn't exist in both 2019 and 2020survey\n",
    "for i in q1:\n",
    "    if '-' in i:\n",
    "        if i.split('-')[0].strip() in drop1:\n",
    "            df1.drop(i, axis=1, inplace=True)\n",
    "    \n",
    "    else:\n",
    "        if i in drop1:\n",
    "            df1.drop(i, axis=1, inplace=True)"
   ]
  },
  {
   "cell_type": "code",
   "execution_count": 21,
   "id": "217093c8",
   "metadata": {},
   "outputs": [],
   "source": [
    "# set2020 = set([i.split('-')[0].strip() for i in df0.columns])\n",
    "# set2019 = set([i.split('-')[0].strip() for i in df9.columns])\n",
    "# set2021 = set([i.split('-')[0].strip() for i in df1.columns])"
   ]
  },
  {
   "cell_type": "code",
   "execution_count": 22,
   "id": "9e4095db",
   "metadata": {},
   "outputs": [],
   "source": [
    "# union = set2021.union(set2020, set2019)\n",
    "# intersection = set2021.intersection(set2020, set2019)\n",
    "# disjunctive_union = union - intersection"
   ]
  },
  {
   "cell_type": "code",
   "execution_count": 23,
   "id": "d6c28eec",
   "metadata": {},
   "outputs": [],
   "source": [
    "# add another column for years in each dataframe\n",
    "df0['year of the answer'] = 2020\n",
    "df9['year of the answer'] = 2019\n",
    "df1['year of the answer'] = 2021"
   ]
  },
  {
   "cell_type": "code",
   "execution_count": 27,
   "id": "407fe4fa",
   "metadata": {},
   "outputs": [],
   "source": [
    "# delete all columns in 2019 that has other text value.\n",
    "text_9 = df9.filter(like='- Text').columns\n",
    "\n",
    "def dropColumn(column_list,df):\n",
    "    for i in column_list:\n",
    "        df.drop(i, axis=1, inplace=True)\n",
    "dropColumn(text_9,df9)"
   ]
  },
  {
   "cell_type": "code",
   "execution_count": 28,
   "id": "2fcc57f9",
   "metadata": {},
   "outputs": [],
   "source": [
    "col0 = df0.columns\n",
    "for i in col0:\n",
    "    if i[-1] == ' ':\n",
    "        df0.rename(columns={i: i[:-1]}, inplace=True)\n",
    "col1 = df1.columns\n",
    "for i in col1:\n",
    "    if i[-1] == ' ':\n",
    "        df1.rename(columns={i: i[:-1]}, inplace=True)\n",
    "        \n",
    "col9 = df9.columns\n",
    "for i in col9:\n",
    "    if i[-1] == ' ':\n",
    "        df9.rename(columns={i: i[:-1]}, inplace=True)"
   ]
  },
  {
   "cell_type": "code",
   "execution_count": 29,
   "id": "8e0887e2",
   "metadata": {},
   "outputs": [],
   "source": [
    "\n",
    "# Question: On which platforms have you begun or completed data science courses? (Select all that apply)\n",
    "\n",
    "q9 = df9.filter(like='On which platforms have you begun or completed data science courses? (Select all that apply)').columns\n",
    "q0 = df0.filter(like='On which platforms have you begun or completed data science courses? (Select all that apply)').columns\n",
    "q1 = df1.filter(like='On which platforms have you begun or completed data science courses? (Select all that apply)').columns\n",
    "\n",
    "\n",
    "df9.rename(columns={'On which platforms have you begun or completed data science courses? (Select all that apply) - Selected Choice - Kaggle Courses (i.e. Kaggle Learn)': 'On which platforms have you begun or completed data science courses? (Select all that apply) - Selected Choice - Kaggle Learn Courses'}, inplace=True)\n",
    "other = 'On which platforms have you begun or completed data science courses? (Select all that apply) - Selected Choice - Other'\n",
    "df9.rename(columns={'On which platforms have you begun or completed data science courses? (Select all that apply) - Selected Choice - DataQuest': other}, inplace=True)\n",
    "\n",
    "\n"
   ]
  },
  {
   "cell_type": "code",
   "execution_count": 30,
   "id": "d13420a6",
   "metadata": {},
   "outputs": [],
   "source": [
    "q9 = set(df9.filter(like='What data visualization libraries or tools do you use on a regular basis?  (Select all that apply)').columns)\n",
    "q0 = set(df0.filter(like='What data visualization libraries or tools do you use on a regular basis?  (Select all that apply)').columns)\n",
    "q1 = set(df1.filter(like='What data visualization libraries or tools do you use on a regular basis?  (Select all that apply)').columns)\n",
    "\n",
    "df0.rename(columns={'What data visualization libraries or tools do you use on a regular basis?  (Select all that apply) - Selected Choice -  D3 js': 'What data visualization libraries or tools do you use on a regular basis?  (Select all that apply) - Selected Choice -  D3.js'}, inplace=True)\n",
    "df1.rename(columns={'What data visualization libraries or tools do you use on a regular basis?  (Select all that apply) - Selected Choice -  D3 js': 'What data visualization libraries or tools do you use on a regular basis?  (Select all that apply) - Selected Choice -  D3.js'}, inplace=True)\n"
   ]
  },
  {
   "cell_type": "code",
   "execution_count": 31,
   "id": "2916fb88",
   "metadata": {},
   "outputs": [],
   "source": [
    "q9 = set(df9.filter(like='Which of the following ML algorithms do you use on a regular basis? (Select all that apply)').columns)\n",
    "q0 = set(df0.filter(like='Which of the following ML algorithms do you use on a regular basis? (Select all that apply)').columns)\n",
    "q1 = set(df1.filter(like='Which of the following ML algorithms do you use on a regular basis? (Select all that apply)').columns)\n",
    "\n",
    "df9.rename(columns={'Which of the following ML algorithms do you use on a regular basis? (Select all that apply): - Selected Choice - Transformer Networks (BERT, gpt-2, etc)': 'Which of the following ML algorithms do you use on a regular basis? (Select all that apply): - Selected Choice - Transformer Networks (BERT, gpt-3, etc)'}, inplace=True)\n",
    "\n"
   ]
  },
  {
   "cell_type": "code",
   "execution_count": 32,
   "id": "8ebcdfcd",
   "metadata": {},
   "outputs": [],
   "source": [
    "q9 = set(df9.filter(like='Which of the following cloud computing platforms do you use on a regular basis? (Select all that apply) - Selected Choice').columns)\n",
    "q0 = set(df0.filter(like='Which of the following cloud computing platforms do you use on a regular basis? (Select all that apply) - Selected Choice').columns)\n",
    "q1 = set(df1.filter(like='Which of the following cloud computing platforms do you use on a regular basis? (Select all that apply) - Selected Choice').columns)\n",
    "\n",
    "df9.rename(columns={'Which of the following cloud computing platforms do you use on a regular basis? (Select all that apply) - Selected Choice -  IBM Cloud': 'Which of the following cloud computing platforms do you use on a regular basis? (Select all that apply) - Selected Choice -  IBM Cloud / Red Hat'}, inplace=True)\n",
    "df9.rename(columns={'Which of the following cloud computing platforms do you use on a regular basis? (Select all that apply) - Selected Choice -  Red Hat Cloud': 'Which of the following cloud computing platforms do you use on a regular basis? (Select all that apply) - Selected Choice -  IBM Cloud / Red Hat'}, inplace=True)\n",
    "df0.rename(columns={'Which of the following cloud computing platforms do you use on a regular basis? (Select all that apply) - Selected Choice -  Tencent Cloud': 'Which of the following cloud computing platforms do you use on a regular basis? (Select all that apply) - Selected Choice - Other'}, inplace=True)\n",
    "df1.rename(columns={'Which of the following cloud computing platforms do you use on a regular basis? (Select all that apply) - Selected Choice -  Tencent Cloud': 'Which of the following cloud computing platforms do you use on a regular basis? (Select all that apply) - Selected Choice - Other'}, inplace=True)\n",
    "\n"
   ]
  },
  {
   "cell_type": "code",
   "execution_count": 33,
   "id": "936bd3d6",
   "metadata": {},
   "outputs": [],
   "source": [
    "q9 = set(df9.filter(like='Which of the following hosted notebook products do you use on a regular basis?  (Select all that apply)').columns)\n",
    "q0 = set(df0.filter(like='Which of the following hosted notebook products do you use on a regular basis?  (Select all that apply)').columns)\n",
    "q1 = set(df1.filter(like='Which of the following hosted notebook products do you use on a regular basis?  (Select all that apply)').columns)\n",
    "\n",
    "other = 'Which of the following hosted notebook products do you use on a regular basis?  (Select all that apply) - Selected Choice - Other'\n",
    "\n",
    "\n",
    "df0.rename(columns={'Which of the following hosted notebook products do you use on a regular basis?  (Select all that apply) - Selected Choice -  Databricks Collaborative Notebooks': other}, inplace=True)\n",
    "df0.rename(columns={'Which of the following hosted notebook products do you use on a regular basis?  (Select all that apply) - Selected Choice - Google Cloud Datalab Notebooks': 'Which of the following hosted notebook products do you use on a regular basis?  (Select all that apply) - Selected Choice -  Google Cloud Notebook Products (AI Platform, Datalab, etc)'}, inplace=True)\n",
    "df0.rename(columns={'Which of the following hosted notebook products do you use on a regular basis?  (Select all that apply) - Selected Choice - Google Cloud AI Platform Notebooks': 'Which of the following hosted notebook products do you use on a regular basis?  (Select all that apply) - Selected Choice -  Google Cloud Notebook Products (AI Platform, Datalab, etc)'}, inplace=True)\n",
    "df0.rename(columns={'Which of the following hosted notebook products do you use on a regular basis?  (Select all that apply) - Selected Choice -  Amazon EMR Notebooks': 'Which of the following hosted notebook products do you use on a regular basis?  (Select all that apply) - Selected Choice - AWS Notebook Products (EMR Notebooks, Sagemaker Notebooks, etc)'}, inplace=True)\n",
    "df0.rename(columns={'Which of the following hosted notebook products do you use on a regular basis?  (Select all that apply) - Selected Choice -  Amazon Sagemaker Studio': 'Which of the following hosted notebook products do you use on a regular basis?  (Select all that apply) - Selected Choice - AWS Notebook Products (EMR Notebooks, Sagemaker Notebooks, etc)'}, inplace=True)\n",
    "df0.rename(columns={'Which of the following hosted notebook products do you use on a regular basis?  (Select all that apply) - Selected Choice -  Code Ocean':'Which of the following hosted notebook products do you use on a regular basis?  (Select all that apply) - Selected Choice - Code Ocean'}, inplace=True)\n",
    "\n",
    "df1.rename(columns={'Which of the following hosted notebook products do you use on a regular basis?  (Select all that apply) - Selected Choice -  Code Ocean':'Which of the following hosted notebook products do you use on a regular basis?  (Select all that apply) - Selected Choice - Code Ocean'}, inplace=True)\n",
    "df1.rename(columns={'Which of the following hosted notebook products do you use on a regular basis?  (Select all that apply) - Selected Choice -  Databricks Collaborative Notebooks': other}, inplace=True)\n",
    "df1.rename(columns={'Which of the following hosted notebook products do you use on a regular basis?  (Select all that apply) - Selected Choice - Google Cloud Datalab': 'Which of the following hosted notebook products do you use on a regular basis?  (Select all that apply) - Selected Choice -  Google Cloud Notebook Products (AI Platform, Datalab, etc)'}, inplace=True)\n",
    "df1.rename(columns={'Which of the following hosted notebook products do you use on a regular basis?  (Select all that apply) - Selected Choice - Google Cloud Notebooks (AI Platform / Vertex AI)': 'Which of the following hosted notebook products do you use on a regular basis?  (Select all that apply) - Selected Choice -  Google Cloud Notebook Products (AI Platform, Datalab, etc)'}, inplace=True)\n",
    "df1.rename(columns={'Which of the following hosted notebook products do you use on a regular basis?  (Select all that apply) - Selected Choice -  Amazon EMR Notebooks': 'Which of the following hosted notebook products do you use on a regular basis?  (Select all that apply) - Selected Choice - AWS Notebook Products (EMR Notebooks, Sagemaker Notebooks, etc)'}, inplace=True)\n",
    "df1.rename(columns={'Which of the following hosted notebook products do you use on a regular basis?  (Select all that apply) - Selected Choice -  Amazon Sagemaker Studio Notebooks': 'Which of the following hosted notebook products do you use on a regular basis?  (Select all that apply) - Selected Choice - AWS Notebook Products (EMR Notebooks, Sagemaker Notebooks, etc)'}, inplace=True)\n",
    "\n",
    "df1.rename(columns={'Which of the following hosted notebook products do you use on a regular basis?  (Select all that apply) - Selected Choice -  Zeppelin / Zepl Notebooks': other}, inplace=True)\n",
    "df1.rename(columns={'Which of the following hosted notebook products do you use on a regular basis?  (Select all that apply) - Selected Choice -  Deepnote Notebooks': other}, inplace=True)\n",
    "df1.rename(columns={'Which of the following hosted notebook products do you use on a regular basis?  (Select all that apply) - Selected Choice -  Observable Notebooks': other}, inplace=True)\n",
    "\n",
    "df9.rename(columns={'Which of the following hosted notebook products do you use on a regular basis?  (Select all that apply) - Selected Choice -  Google Colab': 'Which of the following hosted notebook products do you use on a regular basis?  (Select all that apply) - Selected Choice - Colab Notebooks'}, inplace=True)\n",
    "df9.rename(columns={'Which of the following hosted notebook products do you use on a regular basis?  (Select all that apply) - Selected Choice -  Kaggle Notebooks (Kernels)': 'Which of the following hosted notebook products do you use on a regular basis?  (Select all that apply) - Selected Choice -  Kaggle Notebooks'}, inplace=True)\n",
    "df9.rename(columns={'Which of the following hosted notebook products do you use on a regular basis?  (Select all that apply) - Selected Choice -  Microsoft Azure Notebooks': 'Which of the following hosted notebook products do you use on a regular basis?  (Select all that apply) - Selected Choice - Azure Notebooks'}, inplace=True)\n",
    "\n",
    "df9.rename(columns={'Which of the following hosted notebook products do you use on a regular basis?  (Select all that apply) - Selected Choice -  FloydHub': other}, inplace=True)\n",
    "\n",
    "\n"
   ]
  },
  {
   "cell_type": "code",
   "execution_count": 34,
   "id": "39c9af39",
   "metadata": {},
   "outputs": [],
   "source": [
    "q9 = set(df9.filter(like='Which of the following integrated development environments (IDE').columns)\n",
    "q0 = set(df0.filter(like='Which of the following integrated development environments (IDE').columns)\n",
    "q1 = set(df1.filter(like='Which of the following integrated development environments (IDE').columns)\n",
    "\n",
    "\n",
    "\n",
    "df1.rename(columns={\"Which of the following integrated development environments (IDE's) do you use on a regular basis?  (Select all that apply) - Selected Choice -  Jupyter Notebook\":\"Which of the following integrated development environments (IDE's) do you use on a regular basis?  (Select all that apply) - Selected Choice - Jupyter (JupyterLab, Jupyter Notebooks, etc)\"}, inplace=True)\n",
    "df0.rename(columns={\"Which of the following integrated development environments (IDE's) do you use on a regular basis?  (Select all that apply) - Selected Choice -  Visual Studio / Visual Studio Code\":\"Which of the following integrated development environments (IDE's) do you use on a regular basis?  (Select all that apply) - Selected Choice -  Visual Studio / Visual Studio Code\"},inplace=True)\n",
    "df0.rename(columns={\"Which of the following integrated development environments (IDE's) do you use on a regular basis?  (Select all that apply) - Selected Choice - Click to write Choice 13\":\"Which of the following integrated development environments (IDE's) do you use on a regular basis?  (Select all that apply) - Selected Choice -  Visual Studio / Visual Studio Code\"},inplace=True)\n",
    "\n",
    "df9.rename(columns={\"Which of the following integrated development environments (IDE's) do you use on a regular basis?  (Select all that apply) - Selected Choice -  Atom\":\"Which of the following integrated development environments (IDE's) do you use on a regular basis?  (Select all that apply) - Selected Choice - Other\"}, inplace=True)\n",
    "df1.rename(columns={\"Which of the following integrated development environments (IDE's) do you use on a regular basis?  (Select all that apply) - Selected Choice -  Visual Studio\":\"Which of the following integrated development environments (IDE's) do you use on a regular basis?  (Select all that apply) - Selected Choice -  Visual Studio / Visual Studio Code\"},inplace=True)\n",
    "df1.rename(columns={\"Which of the following integrated development environments (IDE's) do you use on a regular basis?  (Select all that apply) - Selected Choice -  Visual Studio Code (VSCode)\":\"Which of the following integrated development environments (IDE's) do you use on a regular basis?  (Select all that apply) - Selected Choice -  Visual Studio / Visual Studio Code\"},inplace=True)\n",
    "\n"
   ]
  },
  {
   "cell_type": "code",
   "execution_count": 35,
   "id": "0c473014",
   "metadata": {},
   "outputs": [],
   "source": [
    "q9 = set(df9.filter(like='Which of the following machine learning frameworks do you use on a regular basis? (Select all that apply) - Selected Choice').columns)\n",
    "q0 = set(df0.filter(like='Which of the following machine learning frameworks do you use on a regular basis? (Select all that apply) - Selected Choice').columns)\n",
    "q1 = set(df1.filter(like='Which of the following machine learning frameworks do you use on a regular basis? (Select all that apply) - Selected Choice').columns)\n",
    "\n",
    "other = 'Which of the following machine learning frameworks do you use on a regular basis? (Select all that apply) - Selected Choice - Other'\n",
    "df1.rename(columns={'Which of the following machine learning frameworks do you use on a regular basis? (Select all that apply) - Selected Choice -  PyTorch Lightning':'Which of the following machine learning frameworks do you use on a regular basis? (Select all that apply) - Selected Choice -  PyTorch'},inplace=True)\n",
    "df1.rename(columns={'Which of the following machine learning frameworks do you use on a regular basis? (Select all that apply) - Selected Choice -  Huggingface':other}, inplace=True)\n",
    "\n",
    "df9.rename(columns={'Which of the following machine learning frameworks do you use on a regular basis? (Select all that apply) - Selected Choice -  RandomForest':other}, inplace=True)\n",
    "df9.rename(columns={'Which of the following machine learning frameworks do you use on a regular basis? (Select all that apply) - Selected Choice -  Spark MLib':other}, inplace=True)\n",
    "\n",
    "to_change=['CatBoost', 'H2O 3', 'JAX', 'MXNet', 'Prophet', 'Tidymodels']\n",
    "\n",
    "for i in q0:\n",
    "    for j in to_change:\n",
    "        if j in i:\n",
    "            df0.rename(columns={i:other}, inplace=True)\n",
    "for i in q1:\n",
    "    for j in to_change:\n",
    "        if j in i:\n",
    "            df1.rename(columns={i:other}, inplace=True)\n"
   ]
  },
  {
   "cell_type": "code",
   "execution_count": 36,
   "id": "2c8cee88",
   "metadata": {},
   "outputs": [],
   "source": [
    "q9 = set(df9.filter(like='Which of the following natural language processing (NLP) methods do you use on a regular basis?').columns)\n",
    "q0 = set(df0.filter(like='Which of the following natural language processing (NLP) methods do you use on a regular basis?').columns)\n",
    "q1 = set(df1.filter(like='Which of the following natural language processing (NLP) methods do you use on a regular basis?').columns)\n",
    "\n",
    "df9.rename(columns={'Which of the following natural language processing (NLP) methods do you use on a regular basis?  (Select all that apply) - Selected Choice - Transformer language models (GPT-2, BERT, XLnet, etc)':'Which of the following natural language processing (NLP) methods do you use on a regular basis?  (Select all that apply) - Selected Choice - Transformer language models (GPT-3, BERT, XLnet, etc)'},inplace=True)\n",
    "\n"
   ]
  },
  {
   "cell_type": "code",
   "execution_count": 37,
   "id": "528a1d52",
   "metadata": {},
   "outputs": [],
   "source": [
    "q9 = set(df9.filter(like='Which types of specialized hardware do you use on a regular basis?  (Select all that apply)').columns)\n",
    "q0 = set(df0.filter(like='Which types of specialized hardware do you use on a regular basis?  (Select all that apply)').columns)\n",
    "q1 = set(df1.filter(like='Which types of specialized hardware do you use on a regular basis?  (Select all that apply)').columns)\n",
    "\n",
    "other = 'Which types of specialized hardware do you use on a regular basis?  (Select all that apply) - Selected Choice - Other'\n",
    "df9.rename(columns={'Which types of specialized hardware do you use on a regular basis?  (Select all that apply) - Selected Choice - CPUs':other},inplace=True)\n",
    "df9.rename(columns={'Which types of specialized hardware do you use on a regular basis?  (Select all that apply) - Selected Choice - None / I do not know':'Which types of specialized hardware do you use on a regular basis?  (Select all that apply) - Selected Choice - None'},inplace=True)\n",
    "df1.rename(columns={'Which types of specialized hardware do you use on a regular basis?  (Select all that apply) - Selected Choice -  AWS Inferentia Chips':other},inplace=True)\n",
    "df1.rename(columns={'Which types of specialized hardware do you use on a regular basis?  (Select all that apply) - Selected Choice -  AWS Trainium Chips':other},inplace=True)\n",
    "df1.rename(columns={'Which types of specialized hardware do you use on a regular basis?  (Select all that apply) - Selected Choice -  NVIDIA GPUs':'Which types of specialized hardware do you use on a regular basis?  (Select all that apply) - Selected Choice - GPUs'}, inplace=True)\n",
    "df1.rename(columns={'Which types of specialized hardware do you use on a regular basis?  (Select all that apply) - Selected Choice -  Google Cloud TPUs': 'Which types of specialized hardware do you use on a regular basis?  (Select all that apply) - Selected Choice - TPUs'}, inplace=True)\n",
    "\n",
    "\n"
   ]
  },
  {
   "cell_type": "code",
   "execution_count": 38,
   "id": "d58249f4",
   "metadata": {},
   "outputs": [],
   "source": [
    "# reframe questions and answers in 2019 that is common to other two years\n",
    "# Question: Do you use any automated machine learning tools (or partial AutoML tools) on a regular basis?  (Select all that apply)\n",
    "q9 = set(df9.filter(like='Do you use any automated machine learning tools (or partial AutoML tools) on a regular basis?  (Select all that apply)').columns)\n",
    "q0 = set(df0.filter(like='Do you use any automated machine learning tools (or partial AutoML tools) on a regular basis?  (Select all that apply)').columns)\n",
    "q1 = set(df1.filter(like='Do you use any automated machine learning tools (or partial AutoML tools) on a regular basis?  (Select all that apply)').columns)\n",
    "\n",
    " \n",
    "other = 'Do you use any automated machine learning tools (or partial AutoML tools) on a regular basis?  (Select all that apply) - Selected Choice - Other'\n",
    "\n",
    "df9.rename(columns={'Do you use any automated machine learning tools (or partial AutoML tools) on a regular basis?  (Select all that apply) - Selected Choice - None': 'Do you use any automated machine learning tools (or partial AutoML tools) on a regular basis?  (Select all that apply) - Selected Choice - No / None'}, inplace=True)\n",
    "df0.rename(columns={'Do you use any automated machine learning tools (or partial AutoML tools) on a regular basis?  (Select all that apply) - Selected Choice - None': 'Do you use any automated machine learning tools (or partial AutoML tools) on a regular basis?  (Select all that apply) - Selected Choice - No / None'}, inplace=True)\n",
    "df1.rename(columns={'Do you use any automated machine learning tools (or partial AutoML tools) on a regular basis?  (Select all that apply) - Selected Choice - None': 'Do you use any automated machine learning tools (or partial AutoML tools) on a regular basis?  (Select all that apply) - Selected Choice - No / None'}, inplace=True)\n",
    "\n",
    "df9.rename(columns={'Do you use any automated machine learning tools (or partial AutoML tools) on a regular basis?  (Select all that apply) - Selected Choice - Automation of full ML pipelines (e.g. Google AutoML, H20 Driverless AI)':'Do you use any automated machine learning tools (or partial AutoML tools) on a regular basis?  (Select all that apply) - Selected Choice - Automation of full ML pipelines (e.g. Google AutoML, H2O Driverless AI)'},inplace=True)\n",
    "df9.rename(columns={'Do you use any automated machine learning tools (or partial AutoML tools) on a regular basis?  (Select all that apply) - Selected Choice - Automated hyperparameter tuning (e.g. hyperopt, ray.tune)': 'Do you use any automated machine learning tools (or partial AutoML tools) on a regular basis?  (Select all that apply) - Selected Choice - Automated hyperparameter tuning (e.g. hyperopt, ray.tune, Vizier)'}, inplace=True)\n",
    "df1.rename(columns={'Do you use any automated machine learning tools (or partial AutoML tools) on a regular basis?  (Select all that apply) - Selected Choice - Automation of full ML pipelines (e.g. Google Cloud AutoML, H2O Driverless AI)':'Do you use any automated machine learning tools (or partial AutoML tools) on a regular basis?  (Select all that apply) - Selected Choice - Automation of full ML pipelines (e.g. Google AutoML, H2O Driverless AI)'}, inplace=True)\n",
    "df0.rename(columns={'Do you use any automated machine learning tools (or partial AutoML tools) on a regular basis?  (Select all that apply) - Selected Choice - Automation of full ML pipelines (e.g. Google AutoML, H20 Driverless AI)':'Do you use any automated machine learning tools (or partial AutoML tools) on a regular basis?  (Select all that apply) - Selected Choice - Automation of full ML pipelines (e.g. Google AutoML, H2O Driverless AI)'},inplace=True)\n",
    "df0.rename(columns={'Do you use any automated machine learning tools (or partial AutoML tools) on a regular basis?  (Select all that apply) - Selected Choice - Automation of full ML pipelines (e.g. Google Cloud AutoML, H20 Driverless AI)':'Do you use any automated machine learning tools (or partial AutoML tools) on a regular basis?  (Select all that apply) - Selected Choice - Automation of full ML pipelines (e.g. Google AutoML, H2O Driverless AI)'},inplace=True)\n",
    "\n",
    "\n"
   ]
  },
  {
   "cell_type": "code",
   "execution_count": 39,
   "id": "38323dc9",
   "metadata": {},
   "outputs": [],
   "source": [
    "# reframe questions and answers in 2019 that is common to other two years\n",
    "\n",
    "q9 = set(df9.filter(like='Do you use any of the following cloud computing products on a regular basis? (Select all that apply)').columns)\n",
    "q0 = set(df0.filter(like='Do you use any of the following cloud computing products on a regular basis? (Select all that apply)').columns)\n",
    "q1 = set(df1.filter(like='Do you use any of the following cloud computing products on a regular basis? (Select all that apply)').columns)\n",
    "\n",
    "\n",
    "\n",
    "df9.rename(columns={'Do you use any of the following cloud computing products on a regular basis? (Select all that apply) - Selected Choice - AWS Elastic Compute Cloud (EC2)': 'Do you use any of the following cloud computing products on a regular basis? (Select all that apply) - Selected Choice - Amazon Elastic Compute Cloud (EC2)'}, inplace=True)\n",
    "# df9.replace({'Do you use any of the following cloud computing products on a regular basis? (Select all that apply) - Selected Choice - Google Compute Engine (GCE)': {\"Google Compute Engine (GCE)\": \"Google Cloud Compute Engine\"}}, inplace=True)\n",
    "df9.rename(columns={'Do you use any of the following cloud computing products on a regular basis? (Select all that apply) - Selected Choice - Google Compute Engine (GCE)': 'Do you use any of the following cloud computing products on a regular basis? (Select all that apply) - Selected Choice - Google Cloud Compute Engine'}, inplace=True)\n",
    "# df9.replace({\"Do you use any of the following cloud computing products on a regular basis? (Select all that apply) - Selected Choice - None\": {\"None\": \"No / None\"}}, inplace=True)\n",
    "df9.rename(columns={'Do you use any of the following cloud computing products on a regular basis? (Select all that apply) - Selected Choice - None': 'Do you use any of the following cloud computing products on a regular basis? (Select all that apply) - Selected Choice - No / None'}, inplace=True)\n",
    "other = 'Do you use any of the following cloud computing products on a regular basis? (Select all that apply) - Selected Choice - Other'\n",
    "tochange_9 = ['AWS Batch','AWS Elastic Beanstalk','AWS Lambda','Azure Container Service','Azure Virtual Machines','Google App Engine','Google Cloud Functions','Google Kubernetes Engine']\n",
    "for i in q9:\n",
    "    start, middle, rest = i.split('-',2)\n",
    "    rest = rest[1:]\n",
    "    if rest in tochange_9:\n",
    "        df9.rename(columns={i: other}, inplace=True)\n",
    "\n",
    "\n",
    "\n",
    "df0.rename(columns={'Do you use any of the following cloud computing products on a regular basis? (Select all that apply) - Selected Choice - None': 'Do you use any of the following cloud computing products on a regular basis? (Select all that apply) - Selected Choice - No / None'}, inplace=True)\n",
    "df0.rename(columns={'Do you use any of the following cloud computing products on a regular basis? (Select all that apply) - Selected Choice -  Amazon EC2': 'Do you use any of the following cloud computing products on a regular basis? (Select all that apply) - Selected Choice - Amazon Elastic Compute Cloud (EC2)'}, inplace=True)\n",
    "df0.rename(columns={'Do you use any of the following cloud computing products on a regular basis? (Select all that apply) - Selected Choice -  Google Cloud Compute Engine': 'Do you use any of the following cloud computing products on a regular basis? (Select all that apply) - Selected Choice - Google Cloud Compute Engine'}, inplace=True)\n",
    "tochange_0 = ['AWS Lambda','Amazon Elastic Container Service','Azure Cloud Services','Azure Functions','Google Cloud App Engine','Google Cloud Functions','Google Cloud Run','Microsoft Azure Container Instances']\n",
    "for i in q0:\n",
    "    start, middle, rest = i.split('-',2)\n",
    "    rest = rest[2:] \n",
    "    if rest in tochange_0:\n",
    "        df0.rename(columns={i: other}, inplace=True)\n",
    "\n",
    "\n",
    "df1.rename(columns={'Do you use any of the following cloud computing products on a regular basis? (Select all that apply) - Selected Choice -  Amazon Elastic Compute Cloud (EC2)':'Do you use any of the following cloud computing products on a regular basis? (Select all that apply) - Selected Choice - Amazon Elastic Compute Cloud (EC2)'},inplace=True)\n",
    "df1.rename(columns={'Do you use any of the following cloud computing products on a regular basis? (Select all that apply) - Selected Choice - None': 'Do you use any of the following cloud computing products on a regular basis? (Select all that apply) - Selected Choice - No / None'}, inplace=True)\n",
    "df1.rename(columns={'Do you use any of the following cloud computing products on a regular basis? (Select all that apply) - Selected Choice -  Google Cloud Compute Engine': 'Do you use any of the following cloud computing products on a regular basis? (Select all that apply) - Selected Choice - Google Cloud Compute Engine'}, inplace=True)\n",
    "df1.rename(columns={'Do you use any of the following cloud computing products on a regular basis? (Select all that apply) - Selected Choice -  Microsoft Azure Virtual Machines': 'Do you use any of the following cloud computing products on a regular basis? (Select all that apply) - Selected Choice - Other'}, inplace=True)\n",
    "\n",
    "\n"
   ]
  },
  {
   "cell_type": "code",
   "execution_count": 40,
   "id": "cf161324",
   "metadata": {},
   "outputs": [],
   "source": [
    "q9 = set(df9.filter(like='Which of the following big data products (relational databases, data warehouses, data lakes, or similar) do you use on a regular basis? (Select all that apply)').columns)\n",
    "q0 = set(df0.filter(like='Which of the following big data products (relational databases, data warehouses, data lakes, or similar) do you use on a regular basis? (Select all that apply)').columns)\n",
    "q1 = set(df1.filter(like='Which of the following big data products (relational databases, data warehouses, data lakes, or similar) do you use on a regular basis? (Select all that apply)').columns)\n",
    "\n",
    "\n",
    "other = 'Which of the following big data products (relational databases, data warehouses, data lakes, or similar) do you use on a regular basis? (Select all that apply) - Selected Choice - Other'\n",
    "\n",
    "df0.rename(columns={'Which of the following big data products (relational databases, data warehouses, data lakes, or similar) do you use on a regular basis? (Select all that apply) - Selected Choice - PostgresSQL': 'Which of the following big data products (relational databases, data warehouses, data lakes, or similar) do you use on a regular basis? (Select all that apply) - Selected Choice - PostgreSQL'}, inplace=True)\n",
    "df9.rename(columns={'Which of the following big data products (relational databases, data warehouses, data lakes, or similar) do you use on a regular basis? (Select all that apply) - Selected Choice - PostgresSQL': 'Which of the following big data products (relational databases, data warehouses, data lakes, or similar) do you use on a regular basis? (Select all that apply) - Selected Choice - PostgreSQL'}, inplace=True)\n",
    "\n",
    "q9 = set(df9.filter(like='Which of the following big data products (relational databases, data warehouses, data lakes, or similar) do you use on a regular basis? (Select all that apply)').columns)\n",
    "q0 = set(df0.filter(like='Which of the following big data products (relational databases, data warehouses, data lakes, or similar) do you use on a regular basis? (Select all that apply)').columns)\n",
    "q1 = set(df1.filter(like='Which of the following big data products (relational databases, data warehouses, data lakes, or similar) do you use on a regular basis? (Select all that apply)').columns)\n",
    "\n",
    "df9.rename(columns={i: other for i in (q9 - (q0 & q1))}, inplace=True)\n",
    "\n",
    "df0.rename(columns={i: other for i in (q0 - (q9& q1))}, inplace=True)\n",
    "\n",
    "df1.rename(columns={i: other for i in (q1 - (q9 & q0))}, inplace=True)\n",
    "\n"
   ]
  },
  {
   "cell_type": "code",
   "execution_count": 41,
   "id": "d83c2990",
   "metadata": {},
   "outputs": [],
   "source": [
    "q9 = set(df9.filter(like='Which of the following automated machine learning tools (or partial AutoML tools) do you use on a regular basis?  (Select all that apply)').columns)\n",
    "q0 = set(df0.filter(like='Which of the following automated machine learning tools (or partial AutoML tools) do you use on a regular basis?  (Select all that apply)').columns)\n",
    "q1 = set(df1.filter(like='Which of the following automated machine learning tools (or partial AutoML tools) do you use on a regular basis?  (Select all that apply)').columns)\n",
    "\n",
    "other = 'Which of the following automated machine learning tools (or partial AutoML tools) do you use on a regular basis?  (Select all that apply) - Selected Choice - Other'\n",
    "toChange = ['Auto-Keras', 'Auto-Sklearn', 'Auto_ml', 'MLbox', 'Tpot', 'Xcessiv']\n",
    "\n",
    "for i in q9:\n",
    "    for j in toChange:\n",
    "        if j in i:\n",
    "            df9.rename(columns={i:other}, inplace=True)\n",
    "df9.rename(columns={'Which of the following automated machine learning tools (or partial AutoML tools) do you use on a regular basis?  (Select all that apply) - Selected Choice -  Google AutoML': 'Which of the following automated machine learning tools (or partial AutoML tools) do you use on a regular basis?  (Select all that apply) - Selected Choice -  Google Cloud AutoML'}, inplace=True)\n",
    "# misspelling err\n",
    "df9.rename(columns={'Which of the following automated machine learning tools (or partial AutoML tools) do you use on a regular basis?  (Select all that apply) - Selected Choice -  H20 Driverless AI ': 'Which of the following automated machine learning tools (or partial AutoML tools) do you use on a regular basis?  (Select all that apply) - Selected Choice -  H2O Driverless AI'}, inplace=True)\n",
    "\n",
    "\n",
    "for i in q0:\n",
    "    for j in toChange:\n",
    "        if j in i:\n",
    "            df0.rename(columns={i:other}, inplace=True)\n",
    "# misspelling err\n",
    "df0.rename(columns={'Which of the following automated machine learning tools (or partial AutoML tools) do you use on a regular basis?  (Select all that apply) - Selected Choice -  H20 Driverless AI ': 'Which of the following automated machine learning tools (or partial AutoML tools) do you use on a regular basis?  (Select all that apply) - Selected Choice -  H2O Driverless AI'}, inplace=True)\n",
    "df0.rename(columns={'Which of the following automated machine learning tools (or partial AutoML tools) do you use on a regular basis?  (Select all that apply) - Selected Choice - No / None': 'Which of the following automated machine learning tools (or partial AutoML tools) do you use on a regular basis?  (Select all that apply) - Selected Choice - None'}, inplace=True)\n",
    "\n",
    "df1.rename(columns={'Which of the following automated machine learning tools (or partial AutoML tools) do you use on a regular basis?  (Select all that apply) - Selected Choice -   Amazon Sagemaker Autopilot': other}, inplace=True)\n",
    "df1.rename(columns={'Which of the following automated machine learning tools (or partial AutoML tools) do you use on a regular basis?  (Select all that apply) - Selected Choice -   Azure Automated Machine Learning': other}, inplace=True)\n",
    "df1.rename(columns={'Which of the following automated machine learning tools (or partial AutoML tools) do you use on a regular basis?  (Select all that apply) - Selected Choice - No / None': 'Which of the following automated machine learning tools (or partial AutoML tools) do you use on a regular basis?  (Select all that apply) - Selected Choice - None'}, inplace=True)\n",
    "df1.rename(columns={'Which of the following automated machine learning tools (or partial AutoML tools) do you use on a regular basis?  (Select all that apply) - Selected Choice -  H2O Driverless AI ':'Which of the following automated machine learning tools (or partial AutoML tools) do you use on a regular basis?  (Select all that apply) - Selected Choice -  H2O Driverless AI'}, inplace=True)\n"
   ]
  },
  {
   "cell_type": "code",
   "execution_count": 42,
   "id": "57a5779e",
   "metadata": {},
   "outputs": [],
   "source": [
    "# Question: Do you use any of the following managed machine learning products on a regular basis? (Select all that apply)\n",
    "# to stay: Amazon SageMaker, Azure Machine Learning Studio, No / None, Other\n",
    "q9 = set(df9.filter(like='Do you use any of the following managed machine learning products on a regular basis? (Select all that apply)').columns)\n",
    "q0 = set(df0.filter(like='Do you use any of the following managed machine learning products on a regular basis? (Select all that apply)').columns)\n",
    "q1 = set(df1.filter(like='Do you use any of the following managed machine learning products on a regular basis? (Select all that apply)').columns)\n",
    "\n",
    "\n",
    "df9.rename(columns={'Do you use any of the following managed machine learning products on a regular basis? (Select all that apply) - Selected Choice - None': 'Do you use any of the following managed machine learning products on a regular basis? (Select all that apply) - Selected Choice - No / None'}, inplace=True)\n",
    "other = 'Do you use any of the following managed machine learning products on a regular basis? (Select all that apply) - Selected Choice - Other'\n",
    "\n",
    "tochange_9 = ['Cloudera','Google Cloud Machine Learning Engine','Google Cloud Natural Language','Google Cloud Speech-to-Text','Google Cloud Translation','Google Cloud Vision','RapidMiner','SAS']\n",
    "for i in q9:\n",
    "    start, middle, rest = i.split('-',2)\n",
    "    rest = rest[1:]\n",
    "    if rest in tochange_9:\n",
    "        df9.rename(columns={i: other}, inplace=True)\n",
    "\n",
    "\n",
    "df0.rename(columns={'Do you use any of the following managed machine learning products on a regular basis? (Select all that apply) - Selected Choice - None': 'Do you use any of the following managed machine learning products on a regular basis? (Select all that apply) - Selected Choice - No / None'}, inplace=True)\n",
    "df0.rename(columns={'Do you use any of the following managed machine learning products on a regular basis? (Select all that apply) - Selected Choice -  Amazon SageMaker': 'Do you use any of the following managed machine learning products on a regular basis? (Select all that apply) - Selected Choice - Amazon SageMaker'}, inplace=True)\n",
    "df0.rename(columns={'Do you use any of the following managed machine learning products on a regular basis? (Select all that apply) - Selected Choice -  Azure Machine Learning Studio': 'Do you use any of the following managed machine learning products on a regular basis? (Select all that apply) - Selected Choice - Azure Machine Learning Studio'}, inplace=True)\n",
    "tochange_0 = ['Amazon Forecast','Amazon Rekognition','Azure Cognitive Services','Google Cloud AI Platform / Google Cloud ML Engine','Google Cloud Natural Language','Google Cloud Video AI','Google Cloud Vision AI']\n",
    "for i in q0:\n",
    "    start, middle, rest = i.split('-',2)\n",
    "    rest = rest[2:]\n",
    "    if rest in tochange_0:\n",
    "        df0.rename(columns={i: other}, inplace=True)\n",
    "\n",
    "\n",
    "df1.rename(columns={'Do you use any of the following managed machine learning products on a regular basis? (Select all that apply) - Selected Choice - None': 'Do you use any of the following managed machine learning products on a regular basis? (Select all that apply) - Selected Choice - No / None'}, inplace=True)\n",
    "df1.rename(columns={'Do you use any of the following managed machine learning products on a regular basis? (Select all that apply) - Selected Choice -  Amazon SageMaker':'Do you use any of the following managed machine learning products on a regular basis? (Select all that apply) - Selected Choice - Amazon SageMaker'}, inplace=True)\n",
    "df1.rename(columns={'Do you use any of the following managed machine learning products on a regular basis? (Select all that apply) - Selected Choice -  Azure Machine Learning Studio':'Do you use any of the following managed machine learning products on a regular basis? (Select all that apply) - Selected Choice - Azure Machine Learning Studio'}, inplace=True)\n",
    "tochange_1 = ['Alteryx','DataRobot','Databricks','Dataiku','Google Cloud Vertex AI','Rapidminer']\n",
    "for i in q1:\n",
    "    start, middle, rest = i.split('-',2)\n",
    "    rest = rest[2:]\n",
    "    if rest in tochange_1:\n",
    "        df1.rename(columns={i: other}, inplace=True)\n",
    "        \n",
    "\n"
   ]
  },
  {
   "cell_type": "code",
   "execution_count": 43,
   "id": "474024f5",
   "metadata": {},
   "outputs": [],
   "source": [
    "q9 = set(df9.filter(like='On which platforms have you begun or completed data science courses?').columns)\n",
    "q0 = set(df0.filter(like='On which platforms have you begun or completed data science courses?').columns)\n",
    "q1 = set(df1.filter(like='On which platforms have you begun or completed data science courses?').columns)\n",
    "\n",
    "df0.rename(columns={'On which platforms have you begun or completed data science courses? (Select all that apply) - Selected Choice - Cloud-certification programs (direct from AWS, Azure, GCP, or similar)':'On which platforms have you begun or completed data science courses? (Select all that apply) - Selected Choice - Other'},inplace=True)\n",
    "df1.rename(columns={'On which platforms have you begun or completed data science courses? (Select all that apply) - Selected Choice - Cloud-certification programs (direct from AWS, Azure, GCP, or similar)':'On which platforms have you begun or completed data science courses? (Select all that apply) - Selected Choice - Other'},inplace=True)\n"
   ]
  },
  {
   "cell_type": "code",
   "execution_count": 44,
   "id": "e5573253",
   "metadata": {},
   "outputs": [],
   "source": [
    "q9 = set(df9.filter(like='What programming languages do you use on a regular basis? (Select all that apply)').columns)\n",
    "q0 = set(df0.filter(like='What programming languages do you use on a regular basis? (Select all that apply)').columns)\n",
    "q1 = set(df1.filter(like='What programming languages do you use on a regular basis? (Select all that apply)').columns)\n",
    "\n",
    "other = 'What programming languages do you use on a regular basis? (Select all that apply) - Selected Choice - Other'\n",
    "df9.rename(columns={'What programming languages do you use on a regular basis? (Select all that apply) - Selected Choice - TypeScript': other}, inplace=True)\n",
    "df0.rename(columns={'What programming languages do you use on a regular basis? (Select all that apply) - Selected Choice - Swift': other}, inplace=True)\n",
    "df0.rename(columns={'What programming languages do you use on a regular basis? (Select all that apply) - Selected Choice - Julia': other}, inplace=True)\n",
    "df1.rename(columns={'What programming languages do you use on a regular basis? (Select all that apply) - Selected Choice - Swift': other}, inplace=True)\n",
    "df1.rename(columns={'What programming languages do you use on a regular basis? (Select all that apply) - Selected Choice - Julia': other}, inplace=True)\n"
   ]
  },
  {
   "cell_type": "code",
   "execution_count": 45,
   "id": "1befb039",
   "metadata": {},
   "outputs": [],
   "source": [
    "q9 = set(df9.filter(like='Who/what are your favorite media sources that report on data science topics? (Select all that apply)').columns)\n",
    "q0 = set(df0.filter(like='Who/what are your favorite media sources that report on data science topics? (Select all that apply)').columns)\n",
    "q1 = set(df1.filter(like='Who/what are your favorite media sources that report on data science topics? (Select all that apply)').columns)\n",
    "\n",
    "\n",
    "other = 'Who/what are your favorite media sources that report on data science topics? (Select all that apply) - Selected Choice - Other'\n",
    "\n",
    "df9.rename(columns={'Who/what are your favorite media sources that report on data science topics? (Select all that apply) - Selected Choice - Reddit (r/machinelearning, r/datascience, etc)': 'Who/what are your favorite media sources that report on data science topics? (Select all that apply) - Selected Choice - Reddit (r/machinelearning, etc)'}, inplace=True)\n",
    "df9.rename(columns={'Who/what are your favorite media sources that report on data science topics? (Select all that apply) - Selected Choice - Blogs (Towards Data Science, Medium, Analytics Vidhya, KDnuggets etc)': 'Who/what are your favorite media sources that report on data science topics? (Select all that apply) - Selected Choice - Blogs (Towards Data Science, Analytics Vidhya, etc)'}, inplace=True)\n",
    "df9.rename(columns={'Who/what are your favorite media sources that report on data science topics? (Select all that apply) - Selected Choice - Course Forums (forums.fast.ai, etc)': 'Who/what are your favorite media sources that report on data science topics? (Select all that apply) - Selected Choice - Course Forums (forums.fast.ai, Coursera forums, etc)'}, inplace=True)\n",
    "df9.rename(columns={'Who/what are your favorite media sources that report on data science topics? (Select all that apply) - Selected Choice - Kaggle (forums, blog, social media, etc)': 'Who/what are your favorite media sources that report on data science topics? (Select all that apply) - Selected Choice - Kaggle (notebooks, forums, etc)'}, inplace=True)\n",
    "df9.rename(columns={'Who/what are your favorite media sources that report on data science topics? (Select all that apply) - Selected Choice - Podcasts (Chai Time Data Science, Linear Digressions, etc)': 'Who/what are your favorite media sources that report on data science topics? (Select all that apply) - Selected Choice - Podcasts (Chai Time Data Science, Linear Digressions, O’Reilly Data Show etc)'}, inplace=True)\n",
    "df9.rename(columns={'Who/what are your favorite media sources that report on data science topics? (Select all that apply) - Selected Choice - YouTube (Cloud AI Adventures, Siraj Raval, etc)': 'Who/what are your favorite media sources that report on data science topics? (Select all that apply) - Selected Choice - YouTube (Kaggle YouTube, Cloud AI Adventures, etc)'}, inplace=True)\n",
    "# deleted detailed description\n",
    "df9.rename(columns={'Who/what are your favorite media sources that report on data science topics? (Select all that apply) - Selected Choice - Journal Publications (traditional publications, preprint journals, etc)': 'Who/what are your favorite media sources that report on data science topics? (Select all that apply) - Selected Choice - Journal Publications'}, inplace=True)\n",
    "df9.rename(columns={'Who/what are your favorite media sources that report on data science topics? (Select all that apply) - Selected Choice - Hacker News (https://news.ycombinator.com/)': other}, inplace=True)\n",
    "\n",
    "\n",
    "df0.rename(columns={'Who/what are your favorite media sources that report on data science topics? (Select all that apply) - Selected Choice - Podcasts (Chai Time Data Science, O’Reilly Data Show, etc)': 'Who/what are your favorite media sources that report on data science topics? (Select all that apply) - Selected Choice - Podcasts (Chai Time Data Science, Linear Digressions, O’Reilly Data Show etc)'}, inplace=True)\n",
    "df0.rename(columns={'Who/what are your favorite media sources that report on data science topics? (Select all that apply) - Selected Choice - Journal Publications (peer-reviewed journals, conference proceedings, etc)': 'Who/what are your favorite media sources that report on data science topics? (Select all that apply) - Selected Choice - Journal Publications'}, inplace=True)\n",
    "df0.rename(columns={\"Who/what are your favorite media sources that report on data science topics? (Select all that apply) - Selected Choice - Email newsletters (Data Elixir, O'Reilly Data & AI, etc)\":other},inplace=True)\n",
    "\n",
    "df1.rename(columns={'Who/what are your favorite media sources that report on data science topics? (Select all that apply) - Selected Choice - Podcasts (Chai Time Data Science, O’Reilly Data Show, etc)': 'Who/what are your favorite media sources that report on data science topics? (Select all that apply) - Selected Choice - Podcasts (Chai Time Data Science, Linear Digressions, O’Reilly Data Show etc)'}, inplace=True)\n",
    "df1.rename(columns={'Who/what are your favorite media sources that report on data science topics? (Select all that apply) - Selected Choice - Journal Publications (peer-reviewed journals, conference proceedings, etc)': 'Who/what are your favorite media sources that report on data science topics? (Select all that apply) - Selected Choice - Journal Publications'}, inplace=True)\n",
    "df1.rename(columns={\"Who/what are your favorite media sources that report on data science topics? (Select all that apply) - Selected Choice - Email newsletters (Data Elixir, O'Reilly Data & AI, etc)\":other},inplace=True)\n"
   ]
  },
  {
   "cell_type": "code",
   "execution_count": 46,
   "id": "914365f7",
   "metadata": {},
   "outputs": [],
   "source": [
    "# combine 'other' in 2019 tgt\n",
    "df9 = df9.groupby(level=0, axis=1, sort=False).first(min_count=1)\n",
    "# combine 'other' in 2020 tgt\n",
    "df0 = df0.groupby(level=0, axis=1, sort=False).first(min_count=1)\n",
    "# combine 'other' in 2021 tgt\n",
    "df1 = df1.groupby(level=0, axis=1, sort=False).first(min_count=1)"
   ]
  },
  {
   "cell_type": "code",
   "execution_count": 47,
   "id": "66bf8c85",
   "metadata": {},
   "outputs": [],
   "source": [
    "result = pd.concat([df9, df0, df1], ignore_index=True, sort=False)"
   ]
  },
  {
   "cell_type": "code",
   "execution_count": 48,
   "id": "87e7896a",
   "metadata": {},
   "outputs": [],
   "source": [
    "result.to_csv('Kaggle_survey 2019-2021.csv', encoding='utf-8', index=False)"
   ]
  }
 ],
 "metadata": {
  "kernelspec": {
   "display_name": "Python 3 (ipykernel)",
   "language": "python",
   "name": "python3"
  },
  "language_info": {
   "codemirror_mode": {
    "name": "ipython",
    "version": 3
   },
   "file_extension": ".py",
   "mimetype": "text/x-python",
   "name": "python",
   "nbconvert_exporter": "python",
   "pygments_lexer": "ipython3",
   "version": "3.8.3"
  }
 },
 "nbformat": 4,
 "nbformat_minor": 5
}
