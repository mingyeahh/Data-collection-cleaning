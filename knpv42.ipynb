{
 "cells": [
  {
   "cell_type": "code",
   "execution_count": 1,
   "id": "a2885b21",
   "metadata": {},
   "outputs": [],
   "source": [
    "import pandas as pd\n",
    "from pathlib import Path\n",
    "from zipfile import ZipFile\n",
    "import os\n",
    "import numpy as np\n",
    "import seaborn as sns\n",
    "import matplotlib.pyplot as plt"
   ]
  },
  {
   "cell_type": "code",
   "execution_count": 2,
   "id": "9fa392ae",
   "metadata": {},
   "outputs": [],
   "source": [
    "#----------------------------- Problem 1 ----------------------------------#"
   ]
  },
  {
   "cell_type": "code",
   "execution_count": 3,
   "id": "e654bed3",
   "metadata": {},
   "outputs": [
    {
     "name": "stdout",
     "output_type": "stream",
     "text": [
      "File Name                                             Modified             Size\n",
      "kaggle-survey/                                 2022-02-21 00:28:04            0\n",
      "kaggle-survey/kaggle-survey-2019.zip           2022-02-20 22:13:42      1898538\n",
      "kaggle-survey/kaggle-survey-2020.zip           2022-02-20 22:14:22      2179679\n",
      "kaggle-survey/kaggle-survey-2021.zip           2022-02-20 22:15:02      3160342\n",
      "Extracting all the files now!! Yay :D!\n",
      "Finish extracting the mother file! Yay! :D!\n",
      "Finish extracting the children files! Yay! :D!\n",
      "Finish extracting the children files! Yay! :D!\n",
      "Finish extracting the children files! Yay! :D!\n"
     ]
    }
   ],
   "source": [
    "\n",
    "file_name = \"kaggle-survey.zip\"\n",
    "\n",
    "# find the path of this directory\n",
    "directory = Path(\"Kaggle\")\n",
    "# make a new directory called \"Kaggle\"\n",
    "directory.mkdir()\n",
    "\n",
    "# extract all files in the zip files and store them to Klaggle\n",
    "with ZipFile(file_name, 'r') as zip:\n",
    "    zip.printdir()\n",
    "    print('Extracting all the files now!! Yay :D!')\n",
    "    zip.extractall('')\n",
    "    print('Finish extracting the mother file! Yay! :D!')\n",
    "    files = os.listdir(Path('kaggle-survey'))\n",
    "    for file in files:\n",
    "        if file.endswith('.zip'):\n",
    "            with ZipFile(Path('kaggle-survey') / file, 'r') as zip:\n",
    "                zip.extractall(directory)\n",
    "                print('Finish extracting the children files! Yay! :D!')"
   ]
  },
  {
   "cell_type": "code",
   "execution_count": 4,
   "id": "bf3e1729",
   "metadata": {},
   "outputs": [],
   "source": [
    "############################## Problem 2 ###################################"
   ]
  },
  {
   "cell_type": "code",
   "execution_count": 5,
   "id": "8bdfa1f8",
   "metadata": {},
   "outputs": [
    {
     "name": "stderr",
     "output_type": "stream",
     "text": [
      "/opt/anaconda3/lib/python3.8/site-packages/IPython/core/interactiveshell.py:3444: DtypeWarning: Columns (195,201) have mixed types.Specify dtype option on import or set low_memory=False.\n",
      "  exec(code_obj, self.user_global_ns, self.user_ns)\n"
     ]
    }
   ],
   "source": [
    "############################################################################\n",
    "######## Step 1 - Loading the csv files and store them to dataframe ########\n",
    "############################################################################\n",
    "\n",
    "# open survey 2020 and store it as a dataframe\n",
    "file2020 = Path('Kaggle') / 'kaggle_survey_2020_responses.csv'\n",
    "df0 = pd.read_csv(file2020,skiprows=1)\n",
    "# open survey 2021 and store it as a dataframe\n",
    "file2021 = Path('Kaggle') / 'kaggle_survey_2021_responses.csv'\n",
    "df1 = pd.read_csv(file2021,skiprows=1)\n",
    "# open 2019 multiple choice file and store it as a dataframe\n",
    "file2019_m = Path('Kaggle') / 'multiple_choice_responses.csv'\n",
    "df9= pd.read_csv(file2019_m,skiprows=1)"
   ]
  },
  {
   "cell_type": "code",
   "execution_count": 6,
   "id": "09c13455",
   "metadata": {},
   "outputs": [],
   "source": [
    "#######################################################################################################################\n",
    "################## Step 2 - Find out questions with different wordings in all three surveys ###########################\n",
    "##                          And map questions that are the same but with different wordings in all three surveys \n",
    "#######################################################################################################################\n",
    "\n",
    "# Store surveys to sets and only leave the question part (the rest is the option part)\n",
    "set2020 = set([i.split('-')[0].strip() for i in df0.columns])\n",
    "set2019 = set([i.split('-')[0].strip() for i in df9.columns])\n",
    "# get the disjunctive union between 2020 questions and 2019 questions\n",
    "union = set2020.union(set2019)\n",
    "intersection = set2020.intersection(set2019)\n",
    "disjunctive_union = union - intersection\n",
    "# for i in disjunctive_union:\n",
    "#     print(i)"
   ]
  },
  {
   "cell_type": "code",
   "execution_count": 7,
   "id": "58fabf27",
   "metadata": {},
   "outputs": [],
   "source": [
    "# find out the questions with different wording in 2020 survy\n",
    "intersec2020 = disjunctive_union.intersection(set2020)\n",
    "# for i in intersec2020:\n",
    "#     print(i)"
   ]
  },
  {
   "cell_type": "code",
   "execution_count": 8,
   "id": "c697b672",
   "metadata": {},
   "outputs": [],
   "source": [
    "# find out the questions with different wording in 2019 survy\n",
    "intersec2019 = disjunctive_union.intersection(set2019)\n",
    "# for i in intersec2019:\n",
    "#     print(i)"
   ]
  },
  {
   "cell_type": "code",
   "execution_count": 9,
   "id": "a0e9db5c",
   "metadata": {},
   "outputs": [],
   "source": [
    "# Mapping questions that are the same but with different wordings in 2019 survey\n",
    "\n",
    "mapping2019 = {\n",
    "    'How long have you been writing code to analyze data (at work or at school)?': 'For how many years have you been writing code and/or programming?',\n",
    "    'Which categories of ML tools do you use on a regular basis?  (Select all that apply)': 'Do you use any automated machine learning tools (or partial AutoML tools) on a regular basis?  (Select all that apply)',\n",
    "    'Approximately how much money have you spent on machine learning and/or cloud computing products at your work in the past 5 years?':'Approximately how much money have you (or your team) spent on machine learning and/or cloud computing services at home (or at work) in the past 5 years (approximate $USD)?',\n",
    "    'Which specific big data / analytics products do you use on a regular basis? (Select all that apply)':'Which of the following big data products (relational databases, data warehouses, data lakes, or similar) do you use on a regular basis? (Select all that apply)',\n",
    "    'Which of the following relational database products do you use on a regular basis? (Select all that apply)':'Which of the following big data products (relational databases, data warehouses, data lakes, or similar) do you use on a regular basis? (Select all that apply)',\n",
    "    'Which automated machine learning tools (or partial AutoML tools) do you use on a regular basis?  (Select all that apply)':'Which of the following automated machine learning tools (or partial AutoML tools) do you use on a regular basis?  (Select all that apply)',\n",
    "    'Which specific cloud computing products do you use on a regular basis? (Select all that apply)':'Do you use any of the following cloud computing products on a regular basis? (Select all that apply)',\n",
    "    'Have you ever used a TPU (tensor processing unit)?':'Approximately how many times have you used a TPU (tensor processing unit)?',\n",
    "    'Which of the following machine learning products do you use on a regular basis? (Select all that apply)':'Do you use any of the following managed machine learning products on a regular basis? (Select all that apply)'\n",
    "}\n",
    "\n",
    "q9 = df9.columns\n",
    "for i in q9:\n",
    "    if '-' in i:\n",
    "        if i.split('-')[0].strip() in mapping2019:\n",
    "            start, rest = i.split('-',1)\n",
    "            df9.rename(columns={i: mapping2019[start.strip()] + ' -' + rest}, inplace=True)\n",
    "    \n",
    "    else:\n",
    "        if i in mapping2019:\n",
    "            df9.rename(columns={i: mapping2019[i]}, inplace=True)\n",
    "            \n",
    "      \n"
   ]
  },
  {
   "cell_type": "code",
   "execution_count": 10,
   "id": "3c9763a4",
   "metadata": {},
   "outputs": [],
   "source": [
    "# Mapping questions that are the same but with different wordings in 2020 survey\n",
    "mapping2020 = {\n",
    "    'Which categories of automated machine learning tools (or partial AutoML tools) do you hope to become more familiar with in the next 2 years?  (Select all that apply)':'Do you use any automated machine learning tools (or partial AutoML tools) on a regular basis?  (Select all that apply)',\n",
    "    'Do you use any of the following machine learning products on a regular basis? (Select all that apply)':'Do you use any of the following managed machine learning products on a regular basis? (Select all that apply)',\n",
    "    'In the next 2 years, do you hope to become more familiar with any of these specific machine learning products? (Select all that apply)':'Do you use any of the following managed machine learning products on a regular basis? (Select all that apply)',\n",
    "    'Which specific automated machine learning tools (or partial AutoML tools) do you hope to become more familiar with in the next 2 years?  (Select all that apply)':'Which of the following automated machine learning tools (or partial AutoML tools) do you use on a regular basis?  (Select all that apply)',\n",
    "    'Which of the following big data products (relational databases, data warehouses, data lakes, or similar) do you hope to become more familiar with in the next 2 years? (Select all that apply)':'Which of the following big data products (relational databases, data warehouses, data lakes, or similar) do you use on a regular basis? (Select all that apply)',\n",
    "    'In the next 2 years, do you hope to become more familiar with any of these specific cloud computing products? (Select all that apply)':'Do you use any of the following cloud computing products on a regular basis? (Select all that apply)',\n",
    "    'Which of the following cloud computing platforms do you hope to become more familiar with in the next 2 years?':'Which of the following cloud computing platforms do you use on a regular basis? (Select all that apply)'\n",
    "}\n",
    "q0 = df0.columns\n",
    "for i in q0:\n",
    "    if '-' in i:\n",
    "        if i.split('-')[0].strip() in mapping2020:\n",
    "            start, rest = i.split('-',1)\n",
    "            df0.rename(columns={i: mapping2020[start.strip()] + ' -' + rest}, inplace=True)\n",
    "    \n",
    "    else:\n",
    "        if i in mapping2020:\n",
    "            df0.rename(columns={i: mapping2020[i]}, inplace=True)"
   ]
  },
  {
   "cell_type": "code",
   "execution_count": 11,
   "id": "1f4dc764",
   "metadata": {},
   "outputs": [],
   "source": [
    "# drop(delete) some 2020 survey questions that doesn't exist in all three surveys\n",
    "drop0 =['In the next 2 years, do you hope to become more familiar with any of these tools for managing ML experiments? (Select all that apply)',\n",
    "'Which of the following business intelligence tools do you hope to become more familiar with in the next 2 years? (Select all that apply)',\n",
    "'What type of computing platform do you use most often for your data science projects?',\n",
    "'Which of the following business intelligence tools do you use on a regular basis? (Select all that apply)',\n",
    "'Which of the following business intelligence tools do you use most often?',\n",
    "'Which of the following big data products (relational database, data warehouse, data lake, or similar) do you use most often?',\n",
    "'Where do you publicly share or deploy your data analysis or machine learning applications? (Select all that apply)',\n",
    "'Do you use any tools to help manage machine learning experiments? (Select all that apply)']\n",
    "\n",
    "for i in q0:\n",
    "    if '-' in i:\n",
    "        if i.split('-')[0].strip() in drop0:\n",
    "            df0.drop(i, axis=1, inplace=True)\n",
    "    \n",
    "    else:\n",
    "        if i in drop0:\n",
    "            df0.drop(i, axis=1, inplace=True)\n",
    "\n",
    "\n"
   ]
  },
  {
   "cell_type": "code",
   "execution_count": 12,
   "id": "2b3791eb",
   "metadata": {},
   "outputs": [],
   "source": [
    "set2020 = set([i.split('-')[0].strip() for i in df0.columns])\n",
    "set2021 = set([i.split('-')[0].strip() for i in df1.columns])"
   ]
  },
  {
   "cell_type": "code",
   "execution_count": 13,
   "id": "94caf7ce",
   "metadata": {},
   "outputs": [],
   "source": [
    "# get the disjunctive union between 2020 questions and 2021 questions\n",
    "union = set2021.union(set2020)\n",
    "intersection = set2021.intersection(set2020)\n",
    "disjunctive_union = union - intersection\n",
    "# for i in disjunctive_union:\n",
    "#     print(i)"
   ]
  },
  {
   "cell_type": "code",
   "execution_count": 14,
   "id": "4183b4a0",
   "metadata": {},
   "outputs": [],
   "source": [
    "# find out the questions with different wording in 2020 survy\n",
    "intersec2020 = disjunctive_union.intersection(set2020)\n",
    "# for i in intersec2020:\n",
    "#     print(i)"
   ]
  },
  {
   "cell_type": "code",
   "execution_count": 15,
   "id": "7323edfd",
   "metadata": {},
   "outputs": [],
   "source": [
    "# Mapping questions that are the same but with different wordings in 2021 survey\n",
    "mapping2021 = {\n",
    "    'In the next 2 years, do you hope to become more familiar with any of these managed machine learning products? (Select all that apply)':'Do you use any of the following managed machine learning products on a regular basis? (Select all that apply)',\n",
    "    'Which specific automated machine learning tools (or partial AutoML tools) do you hope to become more familiar with in the next 2 years?  (Select all that apply)':'Which of the following automated machine learning tools (or partial AutoML tools) do you use on a regular basis?  (Select all that apply)',\n",
    "    'Which of the following big data products (relational databases, data warehouses, data lakes, or similar) do you hope to become more familiar with in the next 2 years? (Select all that apply)':'Which of the following big data products (relational databases, data warehouses, data lakes, or similar) do you use on a regular basis? (Select all that apply)',\n",
    "    'In the next 2 years, do you hope to become more familiar with any of these specific cloud computing products? (Select all that apply)':'Do you use any of the following cloud computing products on a regular basis? (Select all that apply)',\n",
    "    'Which categories of automated machine learning tools (or partial AutoML tools) do you hope to become more familiar with in the next 2 years?  (Select all that apply)':'Do you use any automated machine learning tools (or partial AutoML tools) on a regular basis?  (Select all that apply)',\n",
    "    'Which of the following cloud computing platforms do you hope to become more familiar with in the next 2 years?':'Which of the following cloud computing platforms do you use on a regular basis? (Select all that apply)'\n",
    "    \n",
    "}\n",
    "q1 = df1.columns\n",
    "\n",
    "\n",
    "for i in q1:\n",
    "    if '-' in i:\n",
    "        if i.split('-')[0].strip() in mapping2021:\n",
    "            start, rest = i.split('-',1)\n",
    "            df1.rename(columns={i: mapping2021[start.strip()] + ' -' + rest}, inplace=True)\n",
    "    \n",
    "    else:\n",
    "        if i in mapping2021:\n",
    "            df1.rename(columns={i: mapping2021[i]}, inplace=True)"
   ]
  },
  {
   "cell_type": "code",
   "execution_count": 16,
   "id": "7a198f3a",
   "metadata": {
    "scrolled": true
   },
   "outputs": [],
   "source": [
    "# compare 2021survey and 2020survey, find out questions that only exit in 2021 survey\n",
    "intersec2021 = disjunctive_union.intersection(set2021)\n",
    "drop1 = []\n",
    "for i in intersec2021:\n",
    "    drop1.append(i)"
   ]
  },
  {
   "cell_type": "code",
   "execution_count": 17,
   "id": "145f42be",
   "metadata": {},
   "outputs": [],
   "source": [
    "q1 = df1.columns\n",
    "# drop(delete) some 2021survey questions that only exit in 2021 survey\n",
    "for i in q1:\n",
    "    if '-' in i:\n",
    "        if i.split('-')[0].strip() in drop1:\n",
    "            df1.drop(i, axis=1, inplace=True)\n",
    "    \n",
    "    else:\n",
    "        if i in drop1:\n",
    "            df1.drop(i, axis=1, inplace=True)"
   ]
  },
  {
   "cell_type": "code",
   "execution_count": 18,
   "id": "217093c8",
   "metadata": {},
   "outputs": [],
   "source": [
    "# checking whether there are still questions in all three surveys that are not the same\n",
    "# set2020 = set([i.split('-')[0].strip() for i in df0.columns])\n",
    "# set2019 = set([i.split('-')[0].strip() for i in df9.columns])\n",
    "# set2021 = set([i.split('-')[0].strip() for i in df1.columns])\n",
    "# union = set2021.union(set2020, set2019)\n",
    "# intersection = set2021.intersection(set2020, set2019)\n",
    "# disjunctive_union = union - intersection"
   ]
  },
  {
   "cell_type": "code",
   "execution_count": 19,
   "id": "d6c28eec",
   "metadata": {},
   "outputs": [],
   "source": [
    "################################################################################################################\n",
    "################## Step 3 - Add 'year of the answer' column in each year's dataframe ###########################\n",
    "################################################################################################################\n",
    "\n",
    "df0['year of the answer'] = 2020\n",
    "df9['year of the answer'] = 2019\n",
    "df1['year of the answer'] = 2021"
   ]
  },
  {
   "cell_type": "code",
   "execution_count": 20,
   "id": "407fe4fa",
   "metadata": {},
   "outputs": [],
   "source": [
    "################################################################################################################\n",
    "################## Step 4 - Implement some data cleaning in preperation for next step ##########################\n",
    "################################################################################################################\n",
    "\n",
    "# delete all columns in 2019 that have other text value.\n",
    "text_9 = df9.filter(like='- Text').columns\n",
    "df9.drop(text_9, axis=1, inplace=True)\n"
   ]
  },
  {
   "cell_type": "code",
   "execution_count": 21,
   "id": "2fcc57f9",
   "metadata": {},
   "outputs": [],
   "source": [
    "# delete empty space string at the end of some columns strings \n",
    "col0 = df0.columns\n",
    "for i in col0:\n",
    "    if i[-1] == ' ':\n",
    "        df0.rename(columns={i: i[:-1]}, inplace=True)\n",
    "col1 = df1.columns\n",
    "for i in col1:\n",
    "    if i[-1] == ' ':\n",
    "        df1.rename(columns={i: i[:-1]}, inplace=True)\n",
    "        \n",
    "col9 = df9.columns\n",
    "for i in col9:\n",
    "    if i[-1] == ' ':\n",
    "        df9.rename(columns={i: i[:-1]}, inplace=True)"
   ]
  },
  {
   "cell_type": "code",
   "execution_count": 22,
   "id": "8e0887e2",
   "metadata": {},
   "outputs": [],
   "source": [
    "####################################################################################################\n",
    "################## Step 5 - Clean up option selections in different years ##########################\n",
    "####################################################################################################\n",
    "# There are 17 questions that needs clean up\n",
    "\n",
    "# Clean up strategy: 1. Rename all options in the same questions that not exist in all three years survey to 'Other' option\n",
    "#                    2. Rename all options in the same questions that express the same things but with different wording to the same wording\n",
    "#                    3. Rename all questions that have misspelling or wierd formatting\n",
    "\n",
    "# Main goal is to make every questions the same in all three dataframe for easier merging in the last step :D\n",
    "\n",
    "q9 = df9.filter(like='On which platforms have you begun or completed data science courses? (Select all that apply)').columns\n",
    "q0 = df0.filter(like='On which platforms have you begun or completed data science courses? (Select all that apply)').columns\n",
    "q1 = df1.filter(like='On which platforms have you begun or completed data science courses? (Select all that apply)').columns\n",
    "\n",
    "\n",
    "df9.rename(columns={'On which platforms have you begun or completed data science courses? (Select all that apply) - Selected Choice - Kaggle Courses (i.e. Kaggle Learn)': 'On which platforms have you begun or completed data science courses? (Select all that apply) - Selected Choice - Kaggle Learn Courses'}, inplace=True)\n",
    "other = 'On which platforms have you begun or completed data science courses? (Select all that apply) - Selected Choice - Other'\n",
    "df9.rename(columns={'On which platforms have you begun or completed data science courses? (Select all that apply) - Selected Choice - DataQuest': other}, inplace=True)\n",
    "\n",
    "\n"
   ]
  },
  {
   "cell_type": "code",
   "execution_count": 23,
   "id": "d13420a6",
   "metadata": {},
   "outputs": [],
   "source": [
    "q9 = set(df9.filter(like='What data visualization libraries or tools do you use on a regular basis?  (Select all that apply)').columns)\n",
    "q0 = set(df0.filter(like='What data visualization libraries or tools do you use on a regular basis?  (Select all that apply)').columns)\n",
    "q1 = set(df1.filter(like='What data visualization libraries or tools do you use on a regular basis?  (Select all that apply)').columns)\n",
    "\n",
    "df0.rename(columns={'What data visualization libraries or tools do you use on a regular basis?  (Select all that apply) - Selected Choice -  D3 js': 'What data visualization libraries or tools do you use on a regular basis?  (Select all that apply) - Selected Choice -  D3.js'}, inplace=True)\n",
    "df1.rename(columns={'What data visualization libraries or tools do you use on a regular basis?  (Select all that apply) - Selected Choice -  D3 js': 'What data visualization libraries or tools do you use on a regular basis?  (Select all that apply) - Selected Choice -  D3.js'}, inplace=True)\n"
   ]
  },
  {
   "cell_type": "code",
   "execution_count": 24,
   "id": "2916fb88",
   "metadata": {},
   "outputs": [],
   "source": [
    "q9 = set(df9.filter(like='Which of the following ML algorithms do you use on a regular basis? (Select all that apply)').columns)\n",
    "q0 = set(df0.filter(like='Which of the following ML algorithms do you use on a regular basis? (Select all that apply)').columns)\n",
    "q1 = set(df1.filter(like='Which of the following ML algorithms do you use on a regular basis? (Select all that apply)').columns)\n",
    "\n",
    "df9.rename(columns={'Which of the following ML algorithms do you use on a regular basis? (Select all that apply): - Selected Choice - Transformer Networks (BERT, gpt-2, etc)': 'Which of the following ML algorithms do you use on a regular basis? (Select all that apply): - Selected Choice - Transformer Networks (BERT, gpt-3, etc)'}, inplace=True)\n",
    "\n"
   ]
  },
  {
   "cell_type": "code",
   "execution_count": 25,
   "id": "8ebcdfcd",
   "metadata": {},
   "outputs": [],
   "source": [
    "q9 = set(df9.filter(like='Which of the following cloud computing platforms do you use on a regular basis? (Select all that apply) - Selected Choice').columns)\n",
    "q0 = set(df0.filter(like='Which of the following cloud computing platforms do you use on a regular basis? (Select all that apply) - Selected Choice').columns)\n",
    "q1 = set(df1.filter(like='Which of the following cloud computing platforms do you use on a regular basis? (Select all that apply) - Selected Choice').columns)\n",
    "\n",
    "df9.rename(columns={'Which of the following cloud computing platforms do you use on a regular basis? (Select all that apply) - Selected Choice -  IBM Cloud': 'Which of the following cloud computing platforms do you use on a regular basis? (Select all that apply) - Selected Choice -  IBM Cloud / Red Hat'}, inplace=True)\n",
    "df9.rename(columns={'Which of the following cloud computing platforms do you use on a regular basis? (Select all that apply) - Selected Choice -  Red Hat Cloud': 'Which of the following cloud computing platforms do you use on a regular basis? (Select all that apply) - Selected Choice -  IBM Cloud / Red Hat'}, inplace=True)\n",
    "df0.rename(columns={'Which of the following cloud computing platforms do you use on a regular basis? (Select all that apply) - Selected Choice -  Tencent Cloud': 'Which of the following cloud computing platforms do you use on a regular basis? (Select all that apply) - Selected Choice - Other'}, inplace=True)\n",
    "df1.rename(columns={'Which of the following cloud computing platforms do you use on a regular basis? (Select all that apply) - Selected Choice -  Tencent Cloud': 'Which of the following cloud computing platforms do you use on a regular basis? (Select all that apply) - Selected Choice - Other'}, inplace=True)\n",
    "\n"
   ]
  },
  {
   "cell_type": "code",
   "execution_count": 26,
   "id": "936bd3d6",
   "metadata": {},
   "outputs": [],
   "source": [
    "q9 = set(df9.filter(like='Which of the following hosted notebook products do you use on a regular basis?  (Select all that apply)').columns)\n",
    "q0 = set(df0.filter(like='Which of the following hosted notebook products do you use on a regular basis?  (Select all that apply)').columns)\n",
    "q1 = set(df1.filter(like='Which of the following hosted notebook products do you use on a regular basis?  (Select all that apply)').columns)\n",
    "\n",
    "other = 'Which of the following hosted notebook products do you use on a regular basis?  (Select all that apply) - Selected Choice - Other'\n",
    "\n",
    "\n",
    "df0.rename(columns={'Which of the following hosted notebook products do you use on a regular basis?  (Select all that apply) - Selected Choice -  Databricks Collaborative Notebooks': other}, inplace=True)\n",
    "df0.rename(columns={'Which of the following hosted notebook products do you use on a regular basis?  (Select all that apply) - Selected Choice - Google Cloud Datalab Notebooks': 'Which of the following hosted notebook products do you use on a regular basis?  (Select all that apply) - Selected Choice -  Google Cloud Notebook Products (AI Platform, Datalab, etc)'}, inplace=True)\n",
    "df0.rename(columns={'Which of the following hosted notebook products do you use on a regular basis?  (Select all that apply) - Selected Choice - Google Cloud AI Platform Notebooks': 'Which of the following hosted notebook products do you use on a regular basis?  (Select all that apply) - Selected Choice -  Google Cloud Notebook Products (AI Platform, Datalab, etc)'}, inplace=True)\n",
    "df0.rename(columns={'Which of the following hosted notebook products do you use on a regular basis?  (Select all that apply) - Selected Choice -  Amazon EMR Notebooks': 'Which of the following hosted notebook products do you use on a regular basis?  (Select all that apply) - Selected Choice - AWS Notebook Products (EMR Notebooks, Sagemaker Notebooks, etc)'}, inplace=True)\n",
    "df0.rename(columns={'Which of the following hosted notebook products do you use on a regular basis?  (Select all that apply) - Selected Choice -  Amazon Sagemaker Studio': 'Which of the following hosted notebook products do you use on a regular basis?  (Select all that apply) - Selected Choice - AWS Notebook Products (EMR Notebooks, Sagemaker Notebooks, etc)'}, inplace=True)\n",
    "df0.rename(columns={'Which of the following hosted notebook products do you use on a regular basis?  (Select all that apply) - Selected Choice -  Code Ocean':'Which of the following hosted notebook products do you use on a regular basis?  (Select all that apply) - Selected Choice - Code Ocean'}, inplace=True)\n",
    "\n",
    "df1.rename(columns={'Which of the following hosted notebook products do you use on a regular basis?  (Select all that apply) - Selected Choice -  Code Ocean':'Which of the following hosted notebook products do you use on a regular basis?  (Select all that apply) - Selected Choice - Code Ocean'}, inplace=True)\n",
    "df1.rename(columns={'Which of the following hosted notebook products do you use on a regular basis?  (Select all that apply) - Selected Choice -  Databricks Collaborative Notebooks': other}, inplace=True)\n",
    "df1.rename(columns={'Which of the following hosted notebook products do you use on a regular basis?  (Select all that apply) - Selected Choice - Google Cloud Datalab': 'Which of the following hosted notebook products do you use on a regular basis?  (Select all that apply) - Selected Choice -  Google Cloud Notebook Products (AI Platform, Datalab, etc)'}, inplace=True)\n",
    "df1.rename(columns={'Which of the following hosted notebook products do you use on a regular basis?  (Select all that apply) - Selected Choice - Google Cloud Notebooks (AI Platform / Vertex AI)': 'Which of the following hosted notebook products do you use on a regular basis?  (Select all that apply) - Selected Choice -  Google Cloud Notebook Products (AI Platform, Datalab, etc)'}, inplace=True)\n",
    "df1.rename(columns={'Which of the following hosted notebook products do you use on a regular basis?  (Select all that apply) - Selected Choice -  Amazon EMR Notebooks': 'Which of the following hosted notebook products do you use on a regular basis?  (Select all that apply) - Selected Choice - AWS Notebook Products (EMR Notebooks, Sagemaker Notebooks, etc)'}, inplace=True)\n",
    "df1.rename(columns={'Which of the following hosted notebook products do you use on a regular basis?  (Select all that apply) - Selected Choice -  Amazon Sagemaker Studio Notebooks': 'Which of the following hosted notebook products do you use on a regular basis?  (Select all that apply) - Selected Choice - AWS Notebook Products (EMR Notebooks, Sagemaker Notebooks, etc)'}, inplace=True)\n",
    "\n",
    "df1.rename(columns={'Which of the following hosted notebook products do you use on a regular basis?  (Select all that apply) - Selected Choice -  Zeppelin / Zepl Notebooks': other}, inplace=True)\n",
    "df1.rename(columns={'Which of the following hosted notebook products do you use on a regular basis?  (Select all that apply) - Selected Choice -  Deepnote Notebooks': other}, inplace=True)\n",
    "df1.rename(columns={'Which of the following hosted notebook products do you use on a regular basis?  (Select all that apply) - Selected Choice -  Observable Notebooks': other}, inplace=True)\n",
    "\n",
    "df9.rename(columns={'Which of the following hosted notebook products do you use on a regular basis?  (Select all that apply) - Selected Choice -  Google Colab': 'Which of the following hosted notebook products do you use on a regular basis?  (Select all that apply) - Selected Choice - Colab Notebooks'}, inplace=True)\n",
    "df9.rename(columns={'Which of the following hosted notebook products do you use on a regular basis?  (Select all that apply) - Selected Choice -  Kaggle Notebooks (Kernels)': 'Which of the following hosted notebook products do you use on a regular basis?  (Select all that apply) - Selected Choice -  Kaggle Notebooks'}, inplace=True)\n",
    "df9.rename(columns={'Which of the following hosted notebook products do you use on a regular basis?  (Select all that apply) - Selected Choice -  Microsoft Azure Notebooks': 'Which of the following hosted notebook products do you use on a regular basis?  (Select all that apply) - Selected Choice - Azure Notebooks'}, inplace=True)\n",
    "\n",
    "df9.rename(columns={'Which of the following hosted notebook products do you use on a regular basis?  (Select all that apply) - Selected Choice -  FloydHub': other}, inplace=True)\n",
    "\n",
    "\n"
   ]
  },
  {
   "cell_type": "code",
   "execution_count": 27,
   "id": "39c9af39",
   "metadata": {},
   "outputs": [],
   "source": [
    "q9 = set(df9.filter(like='Which of the following integrated development environments (IDE').columns)\n",
    "q0 = set(df0.filter(like='Which of the following integrated development environments (IDE').columns)\n",
    "q1 = set(df1.filter(like='Which of the following integrated development environments (IDE').columns)\n",
    "\n",
    "\n",
    "\n",
    "df1.rename(columns={\"Which of the following integrated development environments (IDE's) do you use on a regular basis?  (Select all that apply) - Selected Choice -  Jupyter Notebook\":\"Which of the following integrated development environments (IDE's) do you use on a regular basis?  (Select all that apply) - Selected Choice - Jupyter (JupyterLab, Jupyter Notebooks, etc)\"}, inplace=True)\n",
    "df0.rename(columns={\"Which of the following integrated development environments (IDE's) do you use on a regular basis?  (Select all that apply) - Selected Choice -  Visual Studio / Visual Studio Code\":\"Which of the following integrated development environments (IDE's) do you use on a regular basis?  (Select all that apply) - Selected Choice -  Visual Studio / Visual Studio Code\"},inplace=True)\n",
    "df0.rename(columns={\"Which of the following integrated development environments (IDE's) do you use on a regular basis?  (Select all that apply) - Selected Choice - Click to write Choice 13\":\"Which of the following integrated development environments (IDE's) do you use on a regular basis?  (Select all that apply) - Selected Choice -  Visual Studio / Visual Studio Code\"},inplace=True)\n",
    "\n",
    "df9.rename(columns={\"Which of the following integrated development environments (IDE's) do you use on a regular basis?  (Select all that apply) - Selected Choice -  Atom\":\"Which of the following integrated development environments (IDE's) do you use on a regular basis?  (Select all that apply) - Selected Choice - Other\"}, inplace=True)\n",
    "df1.rename(columns={\"Which of the following integrated development environments (IDE's) do you use on a regular basis?  (Select all that apply) - Selected Choice -  Visual Studio\":\"Which of the following integrated development environments (IDE's) do you use on a regular basis?  (Select all that apply) - Selected Choice -  Visual Studio / Visual Studio Code\"},inplace=True)\n",
    "df1.rename(columns={\"Which of the following integrated development environments (IDE's) do you use on a regular basis?  (Select all that apply) - Selected Choice -  Visual Studio Code (VSCode)\":\"Which of the following integrated development environments (IDE's) do you use on a regular basis?  (Select all that apply) - Selected Choice -  Visual Studio / Visual Studio Code\"},inplace=True)\n",
    "\n"
   ]
  },
  {
   "cell_type": "code",
   "execution_count": 28,
   "id": "0c473014",
   "metadata": {},
   "outputs": [],
   "source": [
    "q9 = set(df9.filter(like='Which of the following machine learning frameworks do you use on a regular basis? (Select all that apply) - Selected Choice').columns)\n",
    "q0 = set(df0.filter(like='Which of the following machine learning frameworks do you use on a regular basis? (Select all that apply) - Selected Choice').columns)\n",
    "q1 = set(df1.filter(like='Which of the following machine learning frameworks do you use on a regular basis? (Select all that apply) - Selected Choice').columns)\n",
    "\n",
    "other = 'Which of the following machine learning frameworks do you use on a regular basis? (Select all that apply) - Selected Choice - Other'\n",
    "df1.rename(columns={'Which of the following machine learning frameworks do you use on a regular basis? (Select all that apply) - Selected Choice -  PyTorch Lightning':'Which of the following machine learning frameworks do you use on a regular basis? (Select all that apply) - Selected Choice -  PyTorch'},inplace=True)\n",
    "df1.rename(columns={'Which of the following machine learning frameworks do you use on a regular basis? (Select all that apply) - Selected Choice -  Huggingface':other}, inplace=True)\n",
    "\n",
    "df9.rename(columns={'Which of the following machine learning frameworks do you use on a regular basis? (Select all that apply) - Selected Choice -  RandomForest':other}, inplace=True)\n",
    "df9.rename(columns={'Which of the following machine learning frameworks do you use on a regular basis? (Select all that apply) - Selected Choice -  Spark MLib':other}, inplace=True)\n",
    "\n",
    "to_change=['CatBoost', 'H2O 3', 'JAX', 'MXNet', 'Prophet', 'Tidymodels']\n",
    "\n",
    "for i in q0:\n",
    "    for j in to_change:\n",
    "        if j in i:\n",
    "            df0.rename(columns={i:other}, inplace=True)\n",
    "for i in q1:\n",
    "    for j in to_change:\n",
    "        if j in i:\n",
    "            df1.rename(columns={i:other}, inplace=True)\n"
   ]
  },
  {
   "cell_type": "code",
   "execution_count": 29,
   "id": "2c8cee88",
   "metadata": {},
   "outputs": [],
   "source": [
    "q9 = set(df9.filter(like='Which of the following natural language processing (NLP) methods do you use on a regular basis?').columns)\n",
    "q0 = set(df0.filter(like='Which of the following natural language processing (NLP) methods do you use on a regular basis?').columns)\n",
    "q1 = set(df1.filter(like='Which of the following natural language processing (NLP) methods do you use on a regular basis?').columns)\n",
    "\n",
    "df9.rename(columns={'Which of the following natural language processing (NLP) methods do you use on a regular basis?  (Select all that apply) - Selected Choice - Transformer language models (GPT-2, BERT, XLnet, etc)':'Which of the following natural language processing (NLP) methods do you use on a regular basis?  (Select all that apply) - Selected Choice - Transformer language models (GPT-3, BERT, XLnet, etc)'},inplace=True)\n",
    "\n"
   ]
  },
  {
   "cell_type": "code",
   "execution_count": 30,
   "id": "528a1d52",
   "metadata": {},
   "outputs": [],
   "source": [
    "q9 = set(df9.filter(like='Which types of specialized hardware do you use on a regular basis?  (Select all that apply)').columns)\n",
    "q0 = set(df0.filter(like='Which types of specialized hardware do you use on a regular basis?  (Select all that apply)').columns)\n",
    "q1 = set(df1.filter(like='Which types of specialized hardware do you use on a regular basis?  (Select all that apply)').columns)\n",
    "\n",
    "other = 'Which types of specialized hardware do you use on a regular basis?  (Select all that apply) - Selected Choice - Other'\n",
    "df9.rename(columns={'Which types of specialized hardware do you use on a regular basis?  (Select all that apply) - Selected Choice - CPUs':other},inplace=True)\n",
    "df9.rename(columns={'Which types of specialized hardware do you use on a regular basis?  (Select all that apply) - Selected Choice - None / I do not know':'Which types of specialized hardware do you use on a regular basis?  (Select all that apply) - Selected Choice - None'},inplace=True)\n",
    "df1.rename(columns={'Which types of specialized hardware do you use on a regular basis?  (Select all that apply) - Selected Choice -  AWS Inferentia Chips':other},inplace=True)\n",
    "df1.rename(columns={'Which types of specialized hardware do you use on a regular basis?  (Select all that apply) - Selected Choice -  AWS Trainium Chips':other},inplace=True)\n",
    "df1.rename(columns={'Which types of specialized hardware do you use on a regular basis?  (Select all that apply) - Selected Choice -  NVIDIA GPUs':'Which types of specialized hardware do you use on a regular basis?  (Select all that apply) - Selected Choice - GPUs'}, inplace=True)\n",
    "df1.rename(columns={'Which types of specialized hardware do you use on a regular basis?  (Select all that apply) - Selected Choice -  Google Cloud TPUs': 'Which types of specialized hardware do you use on a regular basis?  (Select all that apply) - Selected Choice - TPUs'}, inplace=True)\n",
    "\n",
    "\n"
   ]
  },
  {
   "cell_type": "code",
   "execution_count": 31,
   "id": "d58249f4",
   "metadata": {},
   "outputs": [],
   "source": [
    "q9 = set(df9.filter(like='Do you use any automated machine learning tools (or partial AutoML tools) on a regular basis?  (Select all that apply)').columns)\n",
    "q0 = set(df0.filter(like='Do you use any automated machine learning tools (or partial AutoML tools) on a regular basis?  (Select all that apply)').columns)\n",
    "q1 = set(df1.filter(like='Do you use any automated machine learning tools (or partial AutoML tools) on a regular basis?  (Select all that apply)').columns)\n",
    "\n",
    " \n",
    "other = 'Do you use any automated machine learning tools (or partial AutoML tools) on a regular basis?  (Select all that apply) - Selected Choice - Other'\n",
    "\n",
    "df9.rename(columns={'Do you use any automated machine learning tools (or partial AutoML tools) on a regular basis?  (Select all that apply) - Selected Choice - None': 'Do you use any automated machine learning tools (or partial AutoML tools) on a regular basis?  (Select all that apply) - Selected Choice - No / None'}, inplace=True)\n",
    "df0.rename(columns={'Do you use any automated machine learning tools (or partial AutoML tools) on a regular basis?  (Select all that apply) - Selected Choice - None': 'Do you use any automated machine learning tools (or partial AutoML tools) on a regular basis?  (Select all that apply) - Selected Choice - No / None'}, inplace=True)\n",
    "df1.rename(columns={'Do you use any automated machine learning tools (or partial AutoML tools) on a regular basis?  (Select all that apply) - Selected Choice - None': 'Do you use any automated machine learning tools (or partial AutoML tools) on a regular basis?  (Select all that apply) - Selected Choice - No / None'}, inplace=True)\n",
    "\n",
    "df9.rename(columns={'Do you use any automated machine learning tools (or partial AutoML tools) on a regular basis?  (Select all that apply) - Selected Choice - Automation of full ML pipelines (e.g. Google AutoML, H20 Driverless AI)':'Do you use any automated machine learning tools (or partial AutoML tools) on a regular basis?  (Select all that apply) - Selected Choice - Automation of full ML pipelines (e.g. Google AutoML, H2O Driverless AI)'},inplace=True)\n",
    "df9.rename(columns={'Do you use any automated machine learning tools (or partial AutoML tools) on a regular basis?  (Select all that apply) - Selected Choice - Automated hyperparameter tuning (e.g. hyperopt, ray.tune)': 'Do you use any automated machine learning tools (or partial AutoML tools) on a regular basis?  (Select all that apply) - Selected Choice - Automated hyperparameter tuning (e.g. hyperopt, ray.tune, Vizier)'}, inplace=True)\n",
    "df1.rename(columns={'Do you use any automated machine learning tools (or partial AutoML tools) on a regular basis?  (Select all that apply) - Selected Choice - Automation of full ML pipelines (e.g. Google Cloud AutoML, H2O Driverless AI)':'Do you use any automated machine learning tools (or partial AutoML tools) on a regular basis?  (Select all that apply) - Selected Choice - Automation of full ML pipelines (e.g. Google AutoML, H2O Driverless AI)'}, inplace=True)\n",
    "df0.rename(columns={'Do you use any automated machine learning tools (or partial AutoML tools) on a regular basis?  (Select all that apply) - Selected Choice - Automation of full ML pipelines (e.g. Google AutoML, H20 Driverless AI)':'Do you use any automated machine learning tools (or partial AutoML tools) on a regular basis?  (Select all that apply) - Selected Choice - Automation of full ML pipelines (e.g. Google AutoML, H2O Driverless AI)'},inplace=True)\n",
    "df0.rename(columns={'Do you use any automated machine learning tools (or partial AutoML tools) on a regular basis?  (Select all that apply) - Selected Choice - Automation of full ML pipelines (e.g. Google Cloud AutoML, H20 Driverless AI)':'Do you use any automated machine learning tools (or partial AutoML tools) on a regular basis?  (Select all that apply) - Selected Choice - Automation of full ML pipelines (e.g. Google AutoML, H2O Driverless AI)'},inplace=True)\n",
    "\n",
    "\n"
   ]
  },
  {
   "cell_type": "code",
   "execution_count": 32,
   "id": "38323dc9",
   "metadata": {},
   "outputs": [],
   "source": [
    "q9 = set(df9.filter(like='Do you use any of the following cloud computing products on a regular basis? (Select all that apply)').columns)\n",
    "q0 = set(df0.filter(like='Do you use any of the following cloud computing products on a regular basis? (Select all that apply)').columns)\n",
    "q1 = set(df1.filter(like='Do you use any of the following cloud computing products on a regular basis? (Select all that apply)').columns)\n",
    "\n",
    "\n",
    "\n",
    "df9.rename(columns={'Do you use any of the following cloud computing products on a regular basis? (Select all that apply) - Selected Choice - AWS Elastic Compute Cloud (EC2)': 'Do you use any of the following cloud computing products on a regular basis? (Select all that apply) - Selected Choice - Amazon Elastic Compute Cloud (EC2)'}, inplace=True)\n",
    "df9.rename(columns={'Do you use any of the following cloud computing products on a regular basis? (Select all that apply) - Selected Choice - Google Compute Engine (GCE)': 'Do you use any of the following cloud computing products on a regular basis? (Select all that apply) - Selected Choice - Google Cloud Compute Engine'}, inplace=True)\n",
    "df9.rename(columns={'Do you use any of the following cloud computing products on a regular basis? (Select all that apply) - Selected Choice - None': 'Do you use any of the following cloud computing products on a regular basis? (Select all that apply) - Selected Choice - No / None'}, inplace=True)\n",
    "other = 'Do you use any of the following cloud computing products on a regular basis? (Select all that apply) - Selected Choice - Other'\n",
    "tochange_9 = ['AWS Batch','AWS Elastic Beanstalk','AWS Lambda','Azure Container Service','Azure Virtual Machines','Google App Engine','Google Cloud Functions','Google Kubernetes Engine']\n",
    "for i in q9:\n",
    "    start, middle, rest = i.split('-',2)\n",
    "    rest = rest[1:]\n",
    "    if rest in tochange_9:\n",
    "        df9.rename(columns={i: other}, inplace=True)\n",
    "\n",
    "\n",
    "\n",
    "df0.rename(columns={'Do you use any of the following cloud computing products on a regular basis? (Select all that apply) - Selected Choice - None': 'Do you use any of the following cloud computing products on a regular basis? (Select all that apply) - Selected Choice - No / None'}, inplace=True)\n",
    "df0.rename(columns={'Do you use any of the following cloud computing products on a regular basis? (Select all that apply) - Selected Choice -  Amazon EC2': 'Do you use any of the following cloud computing products on a regular basis? (Select all that apply) - Selected Choice - Amazon Elastic Compute Cloud (EC2)'}, inplace=True)\n",
    "df0.rename(columns={'Do you use any of the following cloud computing products on a regular basis? (Select all that apply) - Selected Choice -  Google Cloud Compute Engine': 'Do you use any of the following cloud computing products on a regular basis? (Select all that apply) - Selected Choice - Google Cloud Compute Engine'}, inplace=True)\n",
    "tochange_0 = ['AWS Lambda','Amazon Elastic Container Service','Azure Cloud Services','Azure Functions','Google Cloud App Engine','Google Cloud Functions','Google Cloud Run','Microsoft Azure Container Instances']\n",
    "for i in q0:\n",
    "    start, middle, rest = i.split('-',2)\n",
    "    rest = rest[2:] \n",
    "    if rest in tochange_0:\n",
    "        df0.rename(columns={i: other}, inplace=True)\n",
    "\n",
    "\n",
    "df1.rename(columns={'Do you use any of the following cloud computing products on a regular basis? (Select all that apply) - Selected Choice -  Amazon Elastic Compute Cloud (EC2)':'Do you use any of the following cloud computing products on a regular basis? (Select all that apply) - Selected Choice - Amazon Elastic Compute Cloud (EC2)'},inplace=True)\n",
    "df1.rename(columns={'Do you use any of the following cloud computing products on a regular basis? (Select all that apply) - Selected Choice - None': 'Do you use any of the following cloud computing products on a regular basis? (Select all that apply) - Selected Choice - No / None'}, inplace=True)\n",
    "df1.rename(columns={'Do you use any of the following cloud computing products on a regular basis? (Select all that apply) - Selected Choice -  Google Cloud Compute Engine': 'Do you use any of the following cloud computing products on a regular basis? (Select all that apply) - Selected Choice - Google Cloud Compute Engine'}, inplace=True)\n",
    "df1.rename(columns={'Do you use any of the following cloud computing products on a regular basis? (Select all that apply) - Selected Choice -  Microsoft Azure Virtual Machines': 'Do you use any of the following cloud computing products on a regular basis? (Select all that apply) - Selected Choice - Other'}, inplace=True)\n",
    "\n",
    "\n"
   ]
  },
  {
   "cell_type": "code",
   "execution_count": 33,
   "id": "cf161324",
   "metadata": {},
   "outputs": [],
   "source": [
    "q9 = set(df9.filter(like='Which of the following big data products (relational databases, data warehouses, data lakes, or similar) do you use on a regular basis? (Select all that apply)').columns)\n",
    "q0 = set(df0.filter(like='Which of the following big data products (relational databases, data warehouses, data lakes, or similar) do you use on a regular basis? (Select all that apply)').columns)\n",
    "q1 = set(df1.filter(like='Which of the following big data products (relational databases, data warehouses, data lakes, or similar) do you use on a regular basis? (Select all that apply)').columns)\n",
    "\n",
    "\n",
    "other = 'Which of the following big data products (relational databases, data warehouses, data lakes, or similar) do you use on a regular basis? (Select all that apply) - Selected Choice - Other'\n",
    "\n",
    "df0.rename(columns={'Which of the following big data products (relational databases, data warehouses, data lakes, or similar) do you use on a regular basis? (Select all that apply) - Selected Choice - PostgresSQL': 'Which of the following big data products (relational databases, data warehouses, data lakes, or similar) do you use on a regular basis? (Select all that apply) - Selected Choice - PostgreSQL'}, inplace=True)\n",
    "df9.rename(columns={'Which of the following big data products (relational databases, data warehouses, data lakes, or similar) do you use on a regular basis? (Select all that apply) - Selected Choice - PostgresSQL': 'Which of the following big data products (relational databases, data warehouses, data lakes, or similar) do you use on a regular basis? (Select all that apply) - Selected Choice - PostgreSQL'}, inplace=True)\n",
    "\n",
    "q9 = set(df9.filter(like='Which of the following big data products (relational databases, data warehouses, data lakes, or similar) do you use on a regular basis? (Select all that apply)').columns)\n",
    "q0 = set(df0.filter(like='Which of the following big data products (relational databases, data warehouses, data lakes, or similar) do you use on a regular basis? (Select all that apply)').columns)\n",
    "q1 = set(df1.filter(like='Which of the following big data products (relational databases, data warehouses, data lakes, or similar) do you use on a regular basis? (Select all that apply)').columns)\n",
    "\n",
    "df9.rename(columns={i: other for i in (q9 - (q0 & q1))}, inplace=True)\n",
    "\n",
    "df0.rename(columns={i: other for i in (q0 - (q9& q1))}, inplace=True)\n",
    "\n",
    "df1.rename(columns={i: other for i in (q1 - (q9 & q0))}, inplace=True)\n",
    "\n"
   ]
  },
  {
   "cell_type": "code",
   "execution_count": 34,
   "id": "d83c2990",
   "metadata": {},
   "outputs": [],
   "source": [
    "q9 = set(df9.filter(like='Which of the following automated machine learning tools (or partial AutoML tools) do you use on a regular basis?  (Select all that apply)').columns)\n",
    "q0 = set(df0.filter(like='Which of the following automated machine learning tools (or partial AutoML tools) do you use on a regular basis?  (Select all that apply)').columns)\n",
    "q1 = set(df1.filter(like='Which of the following automated machine learning tools (or partial AutoML tools) do you use on a regular basis?  (Select all that apply)').columns)\n",
    "\n",
    "other = 'Which of the following automated machine learning tools (or partial AutoML tools) do you use on a regular basis?  (Select all that apply) - Selected Choice - Other'\n",
    "toChange = ['Auto-Keras', 'Auto-Sklearn', 'Auto_ml', 'MLbox', 'Tpot', 'Xcessiv']\n",
    "\n",
    "for i in q9:\n",
    "    for j in toChange:\n",
    "        if j in i:\n",
    "            df9.rename(columns={i:other}, inplace=True)\n",
    "df9.rename(columns={'Which of the following automated machine learning tools (or partial AutoML tools) do you use on a regular basis?  (Select all that apply) - Selected Choice -  Google AutoML': 'Which of the following automated machine learning tools (or partial AutoML tools) do you use on a regular basis?  (Select all that apply) - Selected Choice -  Google Cloud AutoML'}, inplace=True)\n",
    "# misspelling err\n",
    "df9.rename(columns={'Which of the following automated machine learning tools (or partial AutoML tools) do you use on a regular basis?  (Select all that apply) - Selected Choice -  H20 Driverless AI ': 'Which of the following automated machine learning tools (or partial AutoML tools) do you use on a regular basis?  (Select all that apply) - Selected Choice -  H2O Driverless AI'}, inplace=True)\n",
    "\n",
    "\n",
    "for i in q0:\n",
    "    for j in toChange:\n",
    "        if j in i:\n",
    "            df0.rename(columns={i:other}, inplace=True)\n",
    "# misspelling err\n",
    "df0.rename(columns={'Which of the following automated machine learning tools (or partial AutoML tools) do you use on a regular basis?  (Select all that apply) - Selected Choice -  H20 Driverless AI ': 'Which of the following automated machine learning tools (or partial AutoML tools) do you use on a regular basis?  (Select all that apply) - Selected Choice -  H2O Driverless AI'}, inplace=True)\n",
    "df0.rename(columns={'Which of the following automated machine learning tools (or partial AutoML tools) do you use on a regular basis?  (Select all that apply) - Selected Choice - No / None': 'Which of the following automated machine learning tools (or partial AutoML tools) do you use on a regular basis?  (Select all that apply) - Selected Choice - None'}, inplace=True)\n",
    "\n",
    "df1.rename(columns={'Which of the following automated machine learning tools (or partial AutoML tools) do you use on a regular basis?  (Select all that apply) - Selected Choice -   Amazon Sagemaker Autopilot': other}, inplace=True)\n",
    "df1.rename(columns={'Which of the following automated machine learning tools (or partial AutoML tools) do you use on a regular basis?  (Select all that apply) - Selected Choice -   Azure Automated Machine Learning': other}, inplace=True)\n",
    "df1.rename(columns={'Which of the following automated machine learning tools (or partial AutoML tools) do you use on a regular basis?  (Select all that apply) - Selected Choice - No / None': 'Which of the following automated machine learning tools (or partial AutoML tools) do you use on a regular basis?  (Select all that apply) - Selected Choice - None'}, inplace=True)\n",
    "df1.rename(columns={'Which of the following automated machine learning tools (or partial AutoML tools) do you use on a regular basis?  (Select all that apply) - Selected Choice -  H2O Driverless AI ':'Which of the following automated machine learning tools (or partial AutoML tools) do you use on a regular basis?  (Select all that apply) - Selected Choice -  H2O Driverless AI'}, inplace=True)\n"
   ]
  },
  {
   "cell_type": "code",
   "execution_count": 35,
   "id": "57a5779e",
   "metadata": {},
   "outputs": [],
   "source": [
    "# to stay options: Amazon SageMaker, Azure Machine Learning Studio, No / None, Other\n",
    "q9 = set(df9.filter(like='Do you use any of the following managed machine learning products on a regular basis? (Select all that apply)').columns)\n",
    "q0 = set(df0.filter(like='Do you use any of the following managed machine learning products on a regular basis? (Select all that apply)').columns)\n",
    "q1 = set(df1.filter(like='Do you use any of the following managed machine learning products on a regular basis? (Select all that apply)').columns)\n",
    "\n",
    "\n",
    "df9.rename(columns={'Do you use any of the following managed machine learning products on a regular basis? (Select all that apply) - Selected Choice - None': 'Do you use any of the following managed machine learning products on a regular basis? (Select all that apply) - Selected Choice - No / None'}, inplace=True)\n",
    "other = 'Do you use any of the following managed machine learning products on a regular basis? (Select all that apply) - Selected Choice - Other'\n",
    "\n",
    "tochange_9 = ['Cloudera','Google Cloud Machine Learning Engine','Google Cloud Natural Language','Google Cloud Speech-to-Text','Google Cloud Translation','Google Cloud Vision','RapidMiner','SAS']\n",
    "for i in q9:\n",
    "    start, middle, rest = i.split('-',2)\n",
    "    rest = rest[1:]\n",
    "    if rest in tochange_9:\n",
    "        df9.rename(columns={i: other}, inplace=True)\n",
    "\n",
    "\n",
    "df0.rename(columns={'Do you use any of the following managed machine learning products on a regular basis? (Select all that apply) - Selected Choice - None': 'Do you use any of the following managed machine learning products on a regular basis? (Select all that apply) - Selected Choice - No / None'}, inplace=True)\n",
    "df0.rename(columns={'Do you use any of the following managed machine learning products on a regular basis? (Select all that apply) - Selected Choice -  Amazon SageMaker': 'Do you use any of the following managed machine learning products on a regular basis? (Select all that apply) - Selected Choice - Amazon SageMaker'}, inplace=True)\n",
    "df0.rename(columns={'Do you use any of the following managed machine learning products on a regular basis? (Select all that apply) - Selected Choice -  Azure Machine Learning Studio': 'Do you use any of the following managed machine learning products on a regular basis? (Select all that apply) - Selected Choice - Azure Machine Learning Studio'}, inplace=True)\n",
    "tochange_0 = ['Amazon Forecast','Amazon Rekognition','Azure Cognitive Services','Google Cloud AI Platform / Google Cloud ML Engine','Google Cloud Natural Language','Google Cloud Video AI','Google Cloud Vision AI']\n",
    "for i in q0:\n",
    "    start, middle, rest = i.split('-',2)\n",
    "    rest = rest[2:]\n",
    "    if rest in tochange_0:\n",
    "        df0.rename(columns={i: other}, inplace=True)\n",
    "\n",
    "\n",
    "df1.rename(columns={'Do you use any of the following managed machine learning products on a regular basis? (Select all that apply) - Selected Choice - None': 'Do you use any of the following managed machine learning products on a regular basis? (Select all that apply) - Selected Choice - No / None'}, inplace=True)\n",
    "df1.rename(columns={'Do you use any of the following managed machine learning products on a regular basis? (Select all that apply) - Selected Choice -  Amazon SageMaker':'Do you use any of the following managed machine learning products on a regular basis? (Select all that apply) - Selected Choice - Amazon SageMaker'}, inplace=True)\n",
    "df1.rename(columns={'Do you use any of the following managed machine learning products on a regular basis? (Select all that apply) - Selected Choice -  Azure Machine Learning Studio':'Do you use any of the following managed machine learning products on a regular basis? (Select all that apply) - Selected Choice - Azure Machine Learning Studio'}, inplace=True)\n",
    "tochange_1 = ['Alteryx','DataRobot','Databricks','Dataiku','Google Cloud Vertex AI','Rapidminer']\n",
    "for i in q1:\n",
    "    start, middle, rest = i.split('-',2)\n",
    "    rest = rest[2:]\n",
    "    if rest in tochange_1:\n",
    "        df1.rename(columns={i: other}, inplace=True)\n",
    "        \n",
    "\n"
   ]
  },
  {
   "cell_type": "code",
   "execution_count": 36,
   "id": "474024f5",
   "metadata": {},
   "outputs": [],
   "source": [
    "q9 = set(df9.filter(like='On which platforms have you begun or completed data science courses?').columns)\n",
    "q0 = set(df0.filter(like='On which platforms have you begun or completed data science courses?').columns)\n",
    "q1 = set(df1.filter(like='On which platforms have you begun or completed data science courses?').columns)\n",
    "\n",
    "df0.rename(columns={'On which platforms have you begun or completed data science courses? (Select all that apply) - Selected Choice - Cloud-certification programs (direct from AWS, Azure, GCP, or similar)':'On which platforms have you begun or completed data science courses? (Select all that apply) - Selected Choice - Other'},inplace=True)\n",
    "df1.rename(columns={'On which platforms have you begun or completed data science courses? (Select all that apply) - Selected Choice - Cloud-certification programs (direct from AWS, Azure, GCP, or similar)':'On which platforms have you begun or completed data science courses? (Select all that apply) - Selected Choice - Other'},inplace=True)\n"
   ]
  },
  {
   "cell_type": "code",
   "execution_count": 37,
   "id": "e5573253",
   "metadata": {},
   "outputs": [],
   "source": [
    "q9 = set(df9.filter(like='What programming languages do you use on a regular basis? (Select all that apply)').columns)\n",
    "q0 = set(df0.filter(like='What programming languages do you use on a regular basis? (Select all that apply)').columns)\n",
    "q1 = set(df1.filter(like='What programming languages do you use on a regular basis? (Select all that apply)').columns)\n",
    "\n",
    "other = 'What programming languages do you use on a regular basis? (Select all that apply) - Selected Choice - Other'\n",
    "df9.rename(columns={'What programming languages do you use on a regular basis? (Select all that apply) - Selected Choice - TypeScript': other}, inplace=True)\n",
    "df0.rename(columns={'What programming languages do you use on a regular basis? (Select all that apply) - Selected Choice - Swift': other}, inplace=True)\n",
    "df0.rename(columns={'What programming languages do you use on a regular basis? (Select all that apply) - Selected Choice - Julia': other}, inplace=True)\n",
    "df1.rename(columns={'What programming languages do you use on a regular basis? (Select all that apply) - Selected Choice - Swift': other}, inplace=True)\n",
    "df1.rename(columns={'What programming languages do you use on a regular basis? (Select all that apply) - Selected Choice - Julia': other}, inplace=True)\n"
   ]
  },
  {
   "cell_type": "code",
   "execution_count": 38,
   "id": "1befb039",
   "metadata": {},
   "outputs": [],
   "source": [
    "q9 = set(df9.filter(like='Who/what are your favorite media sources that report on data science topics? (Select all that apply)').columns)\n",
    "q0 = set(df0.filter(like='Who/what are your favorite media sources that report on data science topics? (Select all that apply)').columns)\n",
    "q1 = set(df1.filter(like='Who/what are your favorite media sources that report on data science topics? (Select all that apply)').columns)\n",
    "\n",
    "\n",
    "other = 'Who/what are your favorite media sources that report on data science topics? (Select all that apply) - Selected Choice - Other'\n",
    "\n",
    "df9.rename(columns={'Who/what are your favorite media sources that report on data science topics? (Select all that apply) - Selected Choice - Reddit (r/machinelearning, r/datascience, etc)': 'Who/what are your favorite media sources that report on data science topics? (Select all that apply) - Selected Choice - Reddit (r/machinelearning, etc)'}, inplace=True)\n",
    "df9.rename(columns={'Who/what are your favorite media sources that report on data science topics? (Select all that apply) - Selected Choice - Blogs (Towards Data Science, Medium, Analytics Vidhya, KDnuggets etc)': 'Who/what are your favorite media sources that report on data science topics? (Select all that apply) - Selected Choice - Blogs (Towards Data Science, Analytics Vidhya, etc)'}, inplace=True)\n",
    "df9.rename(columns={'Who/what are your favorite media sources that report on data science topics? (Select all that apply) - Selected Choice - Course Forums (forums.fast.ai, etc)': 'Who/what are your favorite media sources that report on data science topics? (Select all that apply) - Selected Choice - Course Forums (forums.fast.ai, Coursera forums, etc)'}, inplace=True)\n",
    "df9.rename(columns={'Who/what are your favorite media sources that report on data science topics? (Select all that apply) - Selected Choice - Kaggle (forums, blog, social media, etc)': 'Who/what are your favorite media sources that report on data science topics? (Select all that apply) - Selected Choice - Kaggle (notebooks, forums, etc)'}, inplace=True)\n",
    "df9.rename(columns={'Who/what are your favorite media sources that report on data science topics? (Select all that apply) - Selected Choice - Podcasts (Chai Time Data Science, Linear Digressions, etc)': 'Who/what are your favorite media sources that report on data science topics? (Select all that apply) - Selected Choice - Podcasts (Chai Time Data Science, Linear Digressions, O’Reilly Data Show etc)'}, inplace=True)\n",
    "df9.rename(columns={'Who/what are your favorite media sources that report on data science topics? (Select all that apply) - Selected Choice - YouTube (Cloud AI Adventures, Siraj Raval, etc)': 'Who/what are your favorite media sources that report on data science topics? (Select all that apply) - Selected Choice - YouTube (Kaggle YouTube, Cloud AI Adventures, etc)'}, inplace=True)\n",
    "df9.rename(columns={'Who/what are your favorite media sources that report on data science topics? (Select all that apply) - Selected Choice - Journal Publications (traditional publications, preprint journals, etc)': 'Who/what are your favorite media sources that report on data science topics? (Select all that apply) - Selected Choice - Journal Publications'}, inplace=True)\n",
    "df9.rename(columns={'Who/what are your favorite media sources that report on data science topics? (Select all that apply) - Selected Choice - Hacker News (https://news.ycombinator.com/)': other}, inplace=True)\n",
    "\n",
    "\n",
    "df0.rename(columns={'Who/what are your favorite media sources that report on data science topics? (Select all that apply) - Selected Choice - Podcasts (Chai Time Data Science, O’Reilly Data Show, etc)': 'Who/what are your favorite media sources that report on data science topics? (Select all that apply) - Selected Choice - Podcasts (Chai Time Data Science, Linear Digressions, O’Reilly Data Show etc)'}, inplace=True)\n",
    "df0.rename(columns={'Who/what are your favorite media sources that report on data science topics? (Select all that apply) - Selected Choice - Journal Publications (peer-reviewed journals, conference proceedings, etc)': 'Who/what are your favorite media sources that report on data science topics? (Select all that apply) - Selected Choice - Journal Publications'}, inplace=True)\n",
    "df0.rename(columns={\"Who/what are your favorite media sources that report on data science topics? (Select all that apply) - Selected Choice - Email newsletters (Data Elixir, O'Reilly Data & AI, etc)\":other},inplace=True)\n",
    "\n",
    "df1.rename(columns={'Who/what are your favorite media sources that report on data science topics? (Select all that apply) - Selected Choice - Podcasts (Chai Time Data Science, O’Reilly Data Show, etc)': 'Who/what are your favorite media sources that report on data science topics? (Select all that apply) - Selected Choice - Podcasts (Chai Time Data Science, Linear Digressions, O’Reilly Data Show etc)'}, inplace=True)\n",
    "df1.rename(columns={'Who/what are your favorite media sources that report on data science topics? (Select all that apply) - Selected Choice - Journal Publications (peer-reviewed journals, conference proceedings, etc)': 'Who/what are your favorite media sources that report on data science topics? (Select all that apply) - Selected Choice - Journal Publications'}, inplace=True)\n",
    "df1.rename(columns={\"Who/what are your favorite media sources that report on data science topics? (Select all that apply) - Selected Choice - Email newsletters (Data Elixir, O'Reilly Data & AI, etc)\":other},inplace=True)\n"
   ]
  },
  {
   "cell_type": "code",
   "execution_count": 39,
   "id": "914365f7",
   "metadata": {},
   "outputs": [],
   "source": [
    "####################################################################################################\n",
    "################## Step 6 - Combine questions with the same string together ########################\n",
    "####################################################################################################\n",
    "\n",
    "# combine 'Other' in 2019 together\n",
    "df9 = df9.groupby(level=0, axis=1, sort=False).first(min_count=1)\n",
    "# combine 'Other' in 2020 together\n",
    "df0 = df0.groupby(level=0, axis=1, sort=False).first(min_count=1)\n",
    "# combine 'Other' in 2021 together\n",
    "df1 = df1.groupby(level=0, axis=1, sort=False).first(min_count=1)"
   ]
  },
  {
   "cell_type": "code",
   "execution_count": 40,
   "id": "66bf8c85",
   "metadata": {},
   "outputs": [],
   "source": [
    "#############################################################################################################\n",
    "################## Step 8 - Merge three dataframe together into the final dataframe #########################\n",
    "#############################################################################################################\n",
    "result = pd.concat([df9, df0, df1], ignore_index=True, sort=False)"
   ]
  },
  {
   "cell_type": "code",
   "execution_count": 41,
   "id": "87e7896a",
   "metadata": {},
   "outputs": [],
   "source": [
    "##############################################################################################################\n",
    "################## Step 9 - Output the final dataframe to 'Kaggle_survey 2019-2021.csv' ######################\n",
    "##############################################################################################################\n",
    "\n",
    "result.to_csv('Kaggle_survey 2019-2021.csv', encoding='utf-8', index=False)\n",
    "\n",
    "## END OF PROBLEM 2 ##"
   ]
  },
  {
   "cell_type": "code",
   "execution_count": 42,
   "id": "1622ba0b",
   "metadata": {},
   "outputs": [],
   "source": [
    "# ***************************** Problem 3 **********************************#\n",
    "#**** Things needs cleaning:\n",
    "\n",
    "#  - General dataframe formatting:\n",
    "# 1. Clear abundant empty spacing in values\n",
    "# 2. Rename incorrect values under multiple selected choice questions\n",
    "# 3. Refine incorrect value spelling\n",
    "\n",
    "#  - Indiviual invalid data cleaning\n",
    "# 1. Move disjunctive_union of some options under selected-choice questions to 'Other'\n",
    "# 2. Correct value content duplication problem & Rename lengthy wording of some options\n",
    "# 3. Drop respondents that didn't answer most of the questions\n"
   ]
  },
  {
   "cell_type": "code",
   "execution_count": 43,
   "id": "6555b1f8",
   "metadata": {},
   "outputs": [],
   "source": [
    "#******************************************************************************************************************\n",
    "#***************** Step 1 - Read 'Kaggle_survey 2019-2021.csv' and store data to dataframe ************************\n",
    "#******************************************************************************************************************\n",
    "\n",
    "df = pd.read_csv(Path('Kaggle_survey 2019-2021.csv'))"
   ]
  },
  {
   "cell_type": "code",
   "execution_count": 44,
   "id": "84c4b239",
   "metadata": {},
   "outputs": [
    {
     "name": "stdout",
     "output_type": "stream",
     "text": [
      "[  510   423    83 ... 69978 96354 40250]\n",
      "['22-24' '40-44' '55-59' '50-54' '18-21' '30-34' '25-29' '35-39' '45-49'\n",
      " '60-69' '70+']\n",
      "['Male' 'Female' 'Prefer to self-describe' 'Prefer not to say' 'Man'\n",
      " 'Woman' 'Nonbinary']\n",
      "['France' 'India' 'Germany' 'Australia' 'United States of America'\n",
      " 'Netherlands' 'Ireland' 'Russia' 'Greece' 'Ukraine' 'Pakistan' 'Japan'\n",
      " 'Other' 'Brazil' 'South Korea' 'Belarus' 'Nigeria'\n",
      " 'United Kingdom of Great Britain and Northern Ireland' 'Sweden' 'Mexico'\n",
      " 'Canada' 'Portugal' 'Poland' 'Indonesia' 'Italy' 'Czech Republic' 'Spain'\n",
      " 'Morocco' 'Chile' 'Hong Kong (S.A.R.)' 'South Africa' 'Hungary'\n",
      " 'Argentina' 'Turkey' 'Singapore' 'Israel' 'Taiwan' 'Egypt' 'Bangladesh'\n",
      " 'Colombia' 'Norway' 'Thailand' 'China' 'Switzerland' 'Viet Nam' 'Denmark'\n",
      " 'Tunisia' 'Republic of Korea' 'New Zealand'\n",
      " 'Iran, Islamic Republic of...' 'Peru' 'Kenya' 'Romania' 'Malaysia'\n",
      " 'Belgium' 'Algeria' 'Austria' 'Philippines' 'Saudi Arabia' 'Nepal'\n",
      " 'United Arab Emirates' 'Ghana' 'Sri Lanka'\n",
      " 'I do not wish to disclose my location' 'Uganda' 'Kazakhstan' 'Ethiopia'\n",
      " 'Iraq' 'Ecuador']\n",
      "['Master’s degree' 'Professional degree' 'Bachelor’s degree'\n",
      " 'Some college/university study without earning a bachelor’s degree'\n",
      " 'Doctoral degree' 'I prefer not to answer'\n",
      " 'No formal education past high school' nan 'Professional doctorate']\n",
      "['Software Engineer' nan 'Other' 'Data Scientist' 'Student' 'Statistician'\n",
      " 'Product/Project Manager' 'Data Analyst' 'Research Scientist'\n",
      " 'Business Analyst' 'Data Engineer' 'Not employed' 'DBA/Database Engineer'\n",
      " 'Currently not employed' 'Machine Learning Engineer'\n",
      " 'Program/Project Manager' 'Product Manager'\n",
      " 'Developer Relations/Advocacy']\n",
      "['1000-9,999 employees' '> 10,000 employees' nan '0-49 employees'\n",
      " '50-249 employees' '250-999 employees' '10,000 or more employees']\n",
      "['0' '20+' nan '3-4' '1-2' '5-9' '10-14' '15-19']\n",
      "['I do not know'\n",
      " 'We have well established ML methods (i.e., models in production for more than 2 years)'\n",
      " nan 'No (we do not use ML methods)'\n",
      " 'We are exploring ML methods (and may one day put a model into production)'\n",
      " 'We recently started using ML methods (i.e., models in production for less than 2 years)'\n",
      " 'We use ML methods for generating insights (but do not put working models into production)']\n",
      "[nan\n",
      " 'Analyze and understand data to influence product or business decisions']\n",
      "[nan\n",
      " 'Build and/or run the data infrastructure that my business uses for storing, analyzing, and operationalizing data']\n",
      "[nan 'Build prototypes to explore applying machine learning to new areas']\n",
      "[nan\n",
      " 'Build and/or run a machine learning service that operationally improves my product or workflows']\n",
      "[nan 'Experimentation and iteration to improve existing ML models']\n",
      "[nan 'Do research that advances the state of the art of machine learning']\n",
      "[nan 'None of these activities are an important part of my role at work']\n",
      "[nan 'Other']\n",
      "['30,000-39,999' '5,000-7,499' nan '250,000-299,999' '4,000-4,999'\n",
      " '60,000-69,999' '10,000-14,999' '80,000-89,999' '$0-999' '2,000-2,999'\n",
      " '70,000-79,999' '90,000-99,999' '125,000-149,999' '40,000-49,999'\n",
      " '20,000-24,999' '15,000-19,999' '100,000-124,999' '7,500-9,999'\n",
      " '150,000-199,999' '25,000-29,999' '3,000-3,999' '1,000-1,999'\n",
      " '200,000-249,999' '50,000-59,999' '> $500,000' '300,000-500,000'\n",
      " '300,000-499,999' '>$1,000,000' '$500,000-999,999']\n",
      "['$0 (USD)' '> $100,000 ($USD)' nan '$10,000-$99,999' '$100-$999'\n",
      " '$1000-$9,999' '$1-$99' '$100,000 or more ($USD)' '$0 ($USD)']\n",
      "['Twitter (data science influencers)' nan]\n",
      "[nan 'Other' 'Hacker News (https://news.ycombinator.com/)'\n",
      " \"Email newsletters (Data Elixir, O'Reilly Data & AI, etc)\"]\n",
      "[nan 'Reddit (r/machinelearning, r/datascience, etc)'\n",
      " 'Reddit (r/machinelearning, etc)']\n",
      "['Kaggle (forums, blog, social media, etc)' nan\n",
      " 'Kaggle (notebooks, forums, etc)']\n",
      "[nan 'Course Forums (forums.fast.ai, etc)'\n",
      " 'Course Forums (forums.fast.ai, Coursera forums, etc)']\n",
      "[nan 'YouTube (Cloud AI Adventures, Siraj Raval, etc)'\n",
      " 'YouTube (Kaggle YouTube, Cloud AI Adventures, etc)']\n",
      "[nan 'Podcasts (Chai Time Data Science, Linear Digressions, etc)'\n",
      " 'Podcasts (Chai Time Data Science, O’Reilly Data Show, etc)']\n",
      "['Blogs (Towards Data Science, Medium, Analytics Vidhya, KDnuggets etc)'\n",
      " nan 'Blogs (Towards Data Science, Analytics Vidhya, etc)']\n",
      "['Journal Publications (traditional publications, preprint journals, etc)'\n",
      " nan\n",
      " 'Journal Publications (peer-reviewed journals, conference proceedings, etc)']\n",
      "[nan 'Slack Communities (ods.ai, kagglenoobs, etc)']\n",
      "[nan 'None']\n",
      "[nan 'Udacity']\n",
      "['Coursera' nan]\n",
      "[nan 'edX']\n",
      "['DataCamp' nan]\n",
      "[nan 'Other' 'DataQuest'\n",
      " 'Cloud-certification programs (direct from AWS, Azure, GCP, or similar)']\n",
      "['Kaggle Courses (i.e. Kaggle Learn)' nan 'Kaggle Learn Courses']\n",
      "[nan 'Fast.ai']\n",
      "['Udemy' nan]\n",
      "[nan 'LinkedIn Learning']\n",
      "[nan 'University Courses (resulting in a university degree)']\n",
      "[nan 'None']\n",
      "['Basic statistical software (Microsoft Excel, Google Sheets, etc.)'\n",
      " 'Cloud-based data software & APIs (AWS, GCP, Azure, etc.)' nan\n",
      " 'Local development environments (RStudio, JupyterLab, etc.)'\n",
      " 'Advanced statistical software (SPSS, SAS, etc.)' 'Other'\n",
      " 'Business intelligence software (Salesforce, Tableau, Spotfire, etc.)']\n",
      "['1-2 years' 'I have never written code' nan '< 1 years' '20+ years'\n",
      " '3-5 years' '5-10 years' '10-20 years' '1-3 years']\n",
      "['Jupyter (JupyterLab, Jupyter Notebooks, etc) ' nan ' Jupyter Notebook']\n",
      "[' RStudio ' nan]\n",
      "[' PyCharm ' nan]\n",
      "[nan 'Other' ' Atom ']\n",
      "[' MATLAB ' nan]\n",
      "[nan ' Visual Studio / Visual Studio Code ' 'Visual Studio Code (VSCode)'\n",
      " 'Visual Studio' ' Visual Studio ' ' Visual Studio Code (VSCode) ']\n",
      "['  Spyder  ' nan]\n",
      "[nan '  Vim / Emacs  ']\n",
      "[nan '  Notepad++  ']\n",
      "[nan '  Sublime Text  ']\n",
      "[nan 'None']\n",
      "[nan ' Kaggle Notebooks (Kernels) ' ' Kaggle Notebooks']\n",
      "[nan ' Google Colab ' 'Colab Notebooks']\n",
      "[nan ' Microsoft Azure Notebooks ' 'Azure Notebooks']\n",
      "[nan ' Google Cloud Notebook Products (AI Platform, Datalab, etc) '\n",
      " 'Google Cloud AI Platform Notebooks ' 'Google Cloud Datalab Notebooks'\n",
      " 'Google Cloud Datalab'\n",
      " 'Google Cloud Notebooks (AI Platform / Vertex AI) ']\n",
      "[nan ' Paperspace / Gradient ']\n",
      "[nan 'Other' ' FloydHub ' ' Databricks Collaborative Notebooks '\n",
      " ' Observable Notebooks ' ' Zeppelin / Zepl Notebooks '\n",
      " ' Deepnote Notebooks ']\n",
      "[nan ' Binder / JupyterHub ']\n",
      "[nan ' IBM Watson Studio ']\n",
      "[nan 'Code Ocean ' ' Code Ocean ']\n",
      "[nan 'AWS Notebook Products (EMR Notebooks, Sagemaker Notebooks, etc) '\n",
      " ' Amazon Sagemaker Studio ' ' Amazon EMR Notebooks '\n",
      " ' Amazon Sagemaker Studio Notebooks ']\n",
      "['None' nan]\n",
      "['Python' nan]\n",
      "['R' nan]\n",
      "['SQL' nan]\n",
      "[nan 'C']\n",
      "[nan 'C++']\n",
      "['Java' nan]\n",
      "['Javascript' nan]\n",
      "[nan 'Other' 'TypeScript' 'Swift' 'Julia']\n",
      "[nan 'Bash']\n",
      "['MATLAB' nan]\n",
      "[nan 'None']\n",
      "['Python' nan 'Java' 'R' 'SQL' 'C++' 'None' 'Other' 'C' 'MATLAB'\n",
      " 'TypeScript' 'Javascript' 'Bash' 'Julia' 'Swift']\n",
      "[nan ' Ggplot / ggplot2 ']\n",
      "[' Matplotlib ' nan]\n",
      "[nan ' Altair ']\n",
      "[nan ' Shiny ']\n",
      "[nan ' D3.js ' ' D3 js ']\n",
      "[nan ' Plotly / Plotly Express ']\n",
      "[nan ' Bokeh ']\n",
      "[nan ' Seaborn ']\n",
      "[nan ' Geoplotlib ']\n",
      "[nan ' Leaflet / Folium ']\n",
      "[nan 'None']\n",
      "[nan 'Other']\n",
      "['CPUs' nan 'Other' ' AWS Trainium Chips ' ' AWS Inferentia Chips ']\n",
      "['GPUs' nan ' NVIDIA GPUs ']\n",
      "[nan 'TPUs' ' Google Cloud TPUs ']\n",
      "[nan 'None / I do not know' 'None']\n",
      "['Never' nan 'Once' '6-24 times' '2-5 times' '> 25 times' '6-25 times'\n",
      " 'More than 25 times']\n",
      "['1-2 years' nan '2-3 years' '< 1 years' '10-15 years' '3-4 years'\n",
      " '4-5 years' '5-10 years' '20+ years'\n",
      " 'I do not use machine learning methods' 'Under 1 year' '20 or more years'\n",
      " '10-20 years']\n",
      "['Linear or Logistic Regression' nan]\n",
      "[nan 'Decision Trees or Random Forests']\n",
      "[nan 'Gradient Boosting Machines (xgboost, lightgbm, etc)']\n",
      "[nan 'Bayesian Approaches']\n",
      "[nan 'Evolutionary Approaches']\n",
      "[nan 'Dense Neural Networks (MLPs, etc)']\n",
      "[nan 'Convolutional Neural Networks']\n",
      "[nan 'Generative Adversarial Networks']\n",
      "[nan 'Recurrent Neural Networks']\n",
      "[nan 'Transformer Networks (BERT, gpt-2, etc)'\n",
      " 'Transformer Networks (BERT, gpt-3, etc)']\n",
      "[nan 'None']\n",
      "[nan 'Other']\n",
      "[nan 'Automated data augmentation (e.g. imgaug, albumentations)']\n",
      "[nan 'Automated feature engineering/selection (e.g. tpot, boruta_py)']\n",
      "[nan 'Automated model selection (e.g. auto-sklearn, xcessiv)']\n",
      "[nan 'Automated model architecture searches (e.g. darts, enas)']\n",
      "[nan 'Automated hyperparameter tuning (e.g. hyperopt, ray.tune)'\n",
      " 'Automated hyperparameter tuning (e.g. hyperopt, ray.tune, Vizier)']\n",
      "[nan\n",
      " 'Automation of full ML pipelines (e.g. Google AutoML, H20 Driverless AI)'\n",
      " 'Automation of full ML pipelines (e.g. Google Cloud AutoML, H20 Driverless AI)'\n",
      " 'Automation of full ML pipelines (e.g. Google Cloud AutoML, H2O Driverless AI)'\n",
      " 'Automation of full ML pipelines (e.g. Google AutoML, H2O Driverless AI)']\n",
      "['None' nan 'No / None']\n",
      "[nan 'Other']\n",
      "[nan 'General purpose image/video tools (PIL, cv2, skimage, etc)']\n",
      "[nan 'Image segmentation methods (U-Net, Mask R-CNN, etc)']\n",
      "[nan 'Object detection methods (YOLOv3, RetinaNet, etc)']\n",
      "[nan\n",
      " 'Image classification and other general purpose networks (VGG, Inception, ResNet, ResNeXt, NASNet, EfficientNet, etc)']\n",
      "[nan 'Generative Networks (GAN, VAE, etc)']\n",
      "[nan 'None']\n",
      "[nan 'Other']\n",
      "[nan 'Word embeddings/vectors (GLoVe, fastText, word2vec)']\n",
      "[nan 'Encoder-decorder models (seq2seq, vanilla transformers)']\n",
      "[nan 'Contextualized embeddings (ELMo, CoVe)']\n",
      "[nan 'Transformer language models (GPT-2, BERT, XLnet, etc)'\n",
      " 'Transformer language models (GPT-3, BERT, XLnet, etc)']\n",
      "[nan 'None']\n",
      "[nan 'Other']\n",
      "[nan '  Scikit-learn ']\n",
      "[nan '  TensorFlow ']\n",
      "[nan ' Keras ']\n",
      "[nan ' RandomForest' ' Spark MLib ' 'Other' ' Tidymodels ' ' CatBoost '\n",
      " ' JAX ' ' Prophet ' ' H2O 3 ' ' MXNet ' ' Huggingface ']\n",
      "[nan ' Xgboost ']\n",
      "[nan ' PyTorch ' ' PyTorch Lightning ']\n",
      "[nan ' Caret ']\n",
      "[nan ' LightGBM ']\n",
      "[nan ' Fast.ai ']\n",
      "['None' nan]\n",
      "[nan ' Google Cloud Platform (GCP) ']\n",
      "[nan ' Amazon Web Services (AWS) ']\n",
      "[nan ' Microsoft Azure ']\n",
      "[nan ' Red Hat Cloud ' ' IBM Cloud ' ' IBM Cloud / Red Hat ']\n",
      "[nan ' Alibaba Cloud ']\n",
      "[nan ' Salesforce Cloud ']\n",
      "[nan ' Oracle Cloud ']\n",
      "[nan ' SAP Cloud ']\n",
      "[nan ' VMware Cloud ']\n",
      "[nan 'None']\n",
      "[nan 'Other' ' Tencent Cloud ']\n",
      "[nan 'AWS Elastic Compute Cloud (EC2)' ' Amazon EC2 '\n",
      " ' Amazon Elastic Compute Cloud (EC2) ']\n",
      "[nan 'Google Compute Engine (GCE)' ' Google Cloud Compute Engine ']\n",
      "[nan 'Azure Virtual Machines' 'AWS Lambda' 'AWS Elastic Beanstalk'\n",
      " 'Google Cloud Functions' 'Other' 'Google App Engine'\n",
      " 'Google Kubernetes Engine' 'AWS Batch' 'Azure Container Service'\n",
      " ' Azure Cloud Services ' ' AWS Lambda '\n",
      " ' Microsoft Azure Container Instances ' ' Google Cloud Functions '\n",
      " ' Google Cloud App Engine ' ' Amazon Elastic Container Service '\n",
      " ' Azure Functions ' ' Google Cloud Run '\n",
      " ' Microsoft Azure Virtual Machines ']\n",
      "[nan 'None' 'No / None']\n",
      "[nan 'Databricks' 'AWS Elastic MapReduce' 'Google BigQuery'\n",
      " 'Google Cloud Dataflow' 'AWS Athena' 'Microsoft Analysis Services'\n",
      " 'AWS Redshift' 'AWS DynamoDB' 'Teradata' 'Other' 'Microsoft Access'\n",
      " 'Google Cloud Pub/Sub' 'AWS Kinesis' 'Azure SQL Database'\n",
      " 'AWS Relational Database Service' 'MongoDB ' 'Amazon Redshift '\n",
      " 'Snowflake ' 'Google Cloud Firestore '\n",
      " 'Microsoft Azure Data Lake Storage ' 'IBM Db2 ' 'Amazon Athena '\n",
      " 'Microsoft Access ' 'Google Cloud BigQuery ' 'Amazon DynamoDB '\n",
      " 'Microsoft Azure SQL Database ' 'Amazon RDS '\n",
      " 'Microsoft Azure Cosmos DB ' 'Amazon Aurora ' 'Google Cloud Spanner '\n",
      " 'Google Cloud BigTable ']\n",
      "[nan 'None']\n",
      "[nan 'RapidMiner' 'SAS' 'Google Cloud Translation' 'Google Cloud Vision'\n",
      " 'Google Cloud Machine Learning Engine' 'Cloudera' 'Other'\n",
      " 'Google Cloud Speech-to-Text' 'Google Cloud Natural Language'\n",
      " ' Amazon Forecast ' ' Azure Cognitive Services '\n",
      " ' Google Cloud AI Platform / Google Cloud ML Engine'\n",
      " ' Google Cloud Vision AI ' ' Amazon Rekognition '\n",
      " ' Google Cloud Natural Language ' ' Google Cloud Video AI ' ' DataRobot'\n",
      " ' Google Cloud Vertex AI' ' Databricks' ' Rapidminer' ' Alteryx'\n",
      " ' Dataiku']\n",
      "[nan 'Azure Machine Learning Studio' ' Azure Machine Learning Studio ']\n",
      "[nan 'Amazon SageMaker' ' Amazon SageMaker ']\n",
      "[nan 'None' 'No / None']\n",
      "[nan ' Google AutoML ' ' Google Cloud AutoML ']\n",
      "[nan ' H20 Driverless AI  ' ' H2O Driverless AI  ']\n",
      "[nan ' Databricks AutoML ']\n"
     ]
    },
    {
     "name": "stdout",
     "output_type": "stream",
     "text": [
      "[nan ' DataRobot AutoML ']\n",
      "[nan '  Auto-Keras ' '  Tpot ' '  Auto-Sklearn ' '  Auto_ml ' '  MLbox '\n",
      " 'Other' '  Xcessiv ' '  Azure Automated Machine Learning '\n",
      " '  Amazon Sagemaker Autopilot ']\n",
      "[nan 'None' 'No / None']\n",
      "[nan 'MySQL' 'MySQL ']\n",
      "[nan 'PostgresSQL' 'PostgresSQL ' 'PostgreSQL ']\n",
      "[nan 'SQLite' 'SQLite ']\n",
      "[nan 'Microsoft SQL Server' 'Microsoft SQL Server ']\n",
      "[nan 'Oracle Database' 'Oracle Database ']\n",
      "[nan 'Google Cloud SQL' 'Google Cloud SQL ']\n",
      "[2019 2020 2021]\n"
     ]
    }
   ],
   "source": [
    "# Check values in dataframe before cleaning\n",
    "for i in df.columns:\n",
    "    print(df[i].unique())"
   ]
  },
  {
   "cell_type": "code",
   "execution_count": 45,
   "id": "5cc2f040",
   "metadata": {},
   "outputs": [],
   "source": [
    "#***********************************************************************************\n",
    "#***************** Step 2 - Clean up abundant empty spacing ************************\n",
    "#***********************************************************************************\n",
    "\n",
    "# Reference: https://www.kaggle.com/code/docxian?scriptVersionId=53917973&cellId=25\n",
    "col = df.columns\n",
    "def clean_string(x):\n",
    "    # if the current value is empty, skip it to the next value\n",
    "    if pd.isnull(x):\n",
    "        return x\n",
    "    return x.strip() # Delete empty space \n",
    "for i in col[1:-1]: # avoid the first and last column because the value type of these two columns is integer\n",
    "    df[i] = df[i].apply(clean_string)"
   ]
  },
  {
   "cell_type": "code",
   "execution_count": 46,
   "id": "1d7478c9",
   "metadata": {},
   "outputs": [],
   "source": [
    "#********************************************************************************************************************\n",
    "#***************** Step 3 - Rename incorrect values under multiple selected choice questions ************************\n",
    "#********************************************************************************************************************\n",
    "\n",
    "# Find out all columns with '- Selected Choice -'\n",
    "multiple_choice_col = list(df.filter(like='- Selected Choice -').columns)\n",
    "options = set()\n",
    "# Find all multiple choice options\n",
    "for i in multiple_choice_col:\n",
    "    start, middle, rest = i.split('-',2)\n",
    "    options.add(rest)\n",
    "# print(options)     \n",
    "\n",
    "# Each option correspond to one question, correct all values under that column to the correct value\n",
    "for i in options:\n",
    "    # Find out all the questions that ends with the target option string    \n",
    "    target_question_list = [l for l in df.columns if l.endswith(i)]\n",
    "    for k in target_question_list:\n",
    "        # find out all unique answers to the current column\n",
    "        # Store the values in a list\n",
    "        unique = [j for j in df[k].unique() if not pd.isnull(j)]\n",
    "        df[k] = df[k].replace(unique, i.strip())\n",
    "    "
   ]
  },
  {
   "cell_type": "code",
   "execution_count": 47,
   "id": "2f970cd5",
   "metadata": {},
   "outputs": [],
   "source": [
    "#**********************************************************************************\n",
    "#***************** Step 4 - Refine incorrect value spelling ***********************\n",
    "#**********************************************************************************\n",
    "\n",
    "# correct wierd punctuation\n",
    "q = 'What is the highest level of formal education that you have attained or plan to attain within the next 2 years?'\n",
    "df[q] = df[q].replace(['Master’s degree'], 'Master\\'s degree')\n",
    "df[q] = df[q].replace(['Bachelor’s degree'], 'Bachelor\\'s degree')\n",
    "df[q] = df[q].replace(['Some college/university study without earning a bachelor’s degree'], 'Some college/university study without earning a bachelor\\'s degree')"
   ]
  },
  {
   "cell_type": "code",
   "execution_count": 48,
   "id": "8cf1fa57",
   "metadata": {},
   "outputs": [],
   "source": [
    "# correct wierd punctuation\n",
    "q = 'Who/what are your favorite media sources that report on data science topics? (Select all that apply) - Selected Choice - Podcasts (Chai Time Data Science, Linear Digressions, O’Reilly Data Show etc)'\n",
    "df[q] = df[q].replace(['Podcasts (Chai Time Data Science, Linear Digressions, O’Reilly Data Show etc)'],'Podcasts (Chai Time Data Science, Linear Digressions, O\\'Reilly Data Show etc)')\n",
    "\n",
    "df.rename(columns={q:'Who/what are your favorite media sources that report on data science topics? (Select all that apply) - Selected Choice - Podcasts (Chai Time Data Science, Linear Digressions, O\\'Reilly Data Show etc)'},inplace=True)\n",
    "\n"
   ]
  },
  {
   "cell_type": "code",
   "execution_count": 49,
   "id": "b290ba25",
   "metadata": {},
   "outputs": [],
   "source": [
    "#****************************************************************************************************************\n",
    "#***************** Step 5 - Move disjunctive_union of some answers under single-answer question to 'Other' ******\n",
    "#****************************************************************************************************************\n",
    "\n",
    "# Reference: https://stackoverflow.com/a/12694578/14443006\n",
    "q = 'What programming language would you recommend an aspiring data scientist to learn first? - Selected Choice'\n",
    "# 'Julia' and 'Swift don't exist in survey2019\n",
    "df[q] = df[q].replace(['TypeScript','Julia','Swift'], 'Other')"
   ]
  },
  {
   "cell_type": "code",
   "execution_count": 50,
   "id": "eac718bf",
   "metadata": {},
   "outputs": [],
   "source": [
    "q = 'Select the title most similar to your current role (or most recent title if retired): - Selected Choice'\n",
    "\n",
    "df[q] = df[q].replace(['Machine Learning Engineer','Developer Relations/Advocacy', ], 'Other')"
   ]
  },
  {
   "cell_type": "code",
   "execution_count": 51,
   "id": "7275f6f0",
   "metadata": {},
   "outputs": [],
   "source": [
    "#********************************************************************************************************************\n",
    "#***************** Step 6 - Correction of answer duplication and rename lenthy wording ***********************\n",
    "#********************************************************************************************************************\n",
    "\n",
    "# Reference: https://www.findaprofessionaldoctorate.com/advice/\n",
    "q = 'What is the highest level of formal education that you have attained or plan to attain within the next 2 years?'\n",
    "df[q] = df[q].replace('Professional degree', 'Professional doctorate')\n",
    "df[q] = df[q].replace('Some college/university study without earning a bachelor\\'s degree', 'Undergraduate')\n",
    "df[q] = df[q].replace('No formal education past high school', 'High school')"
   ]
  },
  {
   "cell_type": "code",
   "execution_count": 52,
   "id": "02fbc7e6",
   "metadata": {},
   "outputs": [],
   "source": [
    "q = 'For how many years have you used machine learning methods?'\n",
    "\n",
    "df[q] = df[q].replace(['20 or more years'], '20+ years')\n",
    "df[q] = df[q].replace(['10-15 years'], '10-20 years')\n",
    "df[q] = df[q].replace(['Under 1 year'], '< 1 years')\n",
    "df[q] = df[q].replace(['I do not use machine learning methods'], 'Never')"
   ]
  },
  {
   "cell_type": "code",
   "execution_count": 53,
   "id": "1a950a5a",
   "metadata": {},
   "outputs": [],
   "source": [
    "q = 'What is your gender? - Selected Choice'\n",
    "df[q] = df[q].replace('Man', 'Male')\n",
    "df[q] = df[q].replace('Woman', 'Female')"
   ]
  },
  {
   "cell_type": "code",
   "execution_count": 54,
   "id": "c457b85d",
   "metadata": {},
   "outputs": [],
   "source": [
    "q = 'For how many years have you been writing code and/or programming?'\n",
    "df[q] = df[q].replace('1-2 years', '1-3 years')\n",
    "df[q] = df[q].replace('I have never written code', '0 experience')"
   ]
  },
  {
   "cell_type": "code",
   "execution_count": 55,
   "id": "f2279710",
   "metadata": {},
   "outputs": [],
   "source": [
    "q = 'Approximately how many times have you used a TPU (tensor processing unit)?'\n",
    "df[q] = df[q].replace(['6-24 times'], '6-25 times')\n",
    "df[q] = df[q].replace(['More than 25 times'], '> 25 times')"
   ]
  },
  {
   "cell_type": "code",
   "execution_count": 56,
   "id": "81d3be2b",
   "metadata": {},
   "outputs": [],
   "source": [
    "q = 'What is your current yearly compensation (approximate $USD)?'\n",
    "df[q].unique()\n",
    "df[q] = df[q].replace(['300,000-499,999'], '300,000-500,000')\n",
    "df[q] = df[q].replace(['$500,000-999,999'], '> 500,000')\n",
    "df[q] = df[q].replace(['$0-999'], '0-999')\n",
    "df[q] = df[q].replace(['>$1,000,000'], '> 500,000')\n"
   ]
  },
  {
   "cell_type": "code",
   "execution_count": 57,
   "id": "d3e6751c",
   "metadata": {},
   "outputs": [],
   "source": [
    "q = 'In which country do you currently reside?'\n",
    "df[q].unique()\n",
    "# shorten some counrty's name\n",
    "df[q] = df[q].replace(['United States of America'], 'USA')\n",
    "df[q] = df[q].replace(['United Kingdom of Great Britain and Northern Ireland'], 'UK')\n",
    "df[q] = df[q].replace(['Iran, Islamic Republic of...'], 'Iran')\n",
    "# combine countries that have the same name\n",
    "df[q] = df[q].replace(['Republic of Korea'], 'South Korea')"
   ]
  },
  {
   "cell_type": "code",
   "execution_count": 58,
   "id": "53d11b58",
   "metadata": {},
   "outputs": [],
   "source": [
    "q = 'Approximately how much money have you (or your team) spent on machine learning and/or cloud computing services at home (or at work) in the past 5 years (approximate $USD)?'\n",
    "df[q].unique()\n",
    "df[q] = df[q].replace(['$0 (USD)'], '$0')\n",
    "df[q] = df[q].replace(['$0 ($USD)'], '$0')\n",
    "df[q] = df[q].replace(['$100,000 or more ($USD)'], '> $100,000')\n",
    "df[q] = df[q].replace(['> $100,000 ($USD)'], '> $100,000')\n"
   ]
  },
  {
   "cell_type": "code",
   "execution_count": 59,
   "id": "04167808",
   "metadata": {},
   "outputs": [],
   "source": [
    "q = 'Select the title most similar to your current role (or most recent title if retired): - Selected Choice'\n",
    "df[q] = df[q].replace(['Currently not employed'], 'Not employed')\n",
    "df[q] = df[q].replace(['Product Manager'], 'Manager')\n",
    "df[q] = df[q].replace(['Program/Project Manager'], 'Manager')\n",
    "df[q] = df[q].replace(['Product/Project Manager'], 'Manager')"
   ]
  },
  {
   "cell_type": "code",
   "execution_count": 60,
   "id": "261b76f9",
   "metadata": {},
   "outputs": [],
   "source": [
    "q = 'What is the size of the company where you are employed?'\n",
    "df[q] = df[q].replace(['10,000 or more employees'], '>= 10,000 employees')\n",
    "df[q] = df[q].replace(['> 10,000 employees'], '>= 10,000 employees')"
   ]
  },
  {
   "cell_type": "code",
   "execution_count": 61,
   "id": "735612a7",
   "metadata": {},
   "outputs": [],
   "source": [
    "# col = df.columns\n",
    "# for i in col:\n",
    "#     print(df[i].unique())"
   ]
  },
  {
   "cell_type": "code",
   "execution_count": 62,
   "id": "e58dbdbf",
   "metadata": {},
   "outputs": [],
   "source": [
    "#************************************************************************************************************\n",
    "#***************** Step 7 - Drop respondents that didn't answer most of the questions ***********************\n",
    "#************************************************************************************************************\n",
    "# Find out rows that are not significant\n",
    "l = df.loc[pd.isnull(df['For how many years have you been writing code and/or programming?'])]\n",
    "df.drop(l.index, axis=0, inplace=True)"
   ]
  },
  {
   "cell_type": "code",
   "execution_count": 63,
   "id": "d72a4838",
   "metadata": {},
   "outputs": [],
   "source": [
    "#*********************************************************************************\n",
    "#***************** Step 8 - Write cleaned dataframe to csv ***********************\n",
    "#*********************************************************************************\n",
    "df.to_csv('Kaggle_survey 2019-2021_cleaned.csv', encoding='utf-8', index=False)\n",
    "\n",
    "#** END OF PROBLEM 3 **"
   ]
  },
  {
   "cell_type": "code",
   "execution_count": 64,
   "id": "25110d58",
   "metadata": {},
   "outputs": [],
   "source": [
    "# ••••••••••••••••••••••••••• Problem 4 •••••••••••••••••••••••••••••••••"
   ]
  },
  {
   "cell_type": "code",
   "execution_count": 65,
   "id": "237d974b",
   "metadata": {},
   "outputs": [],
   "source": [
    "# Select dataset that satisfies the group of targeted people, who are Data Scientists who have more than 5 years programming experience\n",
    "df_ppl_grp = df.loc[(df['For how many years have you been writing code and/or programming?'].isin(['5-10 years','10-20 years','20+ years'])) & (df['Select the title most similar to your current role (or most recent title if retired): - Selected Choice'] == 'Data Scientist')]\n"
   ]
  },
  {
   "cell_type": "code",
   "execution_count": 66,
   "id": "783212d5",
   "metadata": {},
   "outputs": [
    {
     "data": {
      "image/png": "[encoded data removed]",
      "text/plain": [
       "<Figure size 1080x360 with 3 Axes>"
      ]
     },
     "metadata": {
      "needs_background": "light"
     },
     "output_type": "display_data"
    }
   ],
   "source": [
    "# Plot for top 5 programming language by senior Data Scientists all three years\n",
    "\n",
    "# df.columns.get_loc('What programming languages do you use on a regular basis? (Select all that apply) - Selected Choice - Python')\n",
    "# # => 65\n",
    "# df.columns.get_loc('What programming languages do you use on a regular basis? (Select all that apply) - Selected Choice - MATLAB')\n",
    "# # => 74\n",
    "plot1_q = df.iloc[:, 65:75]\n",
    "\n",
    "plot1 = pd.melt(df_ppl_grp, id_vars=['year of the answer'], value_vars= plot1_q.columns, value_name='language')\n",
    "\n",
    "plot1.dropna(inplace=True)\n",
    "\n",
    "cat = sns.catplot(kind=\"count\", col=\"year of the answer\", x=\"language\",\n",
    "#             use the line here to check the order with \"Other\" and set the new order, which put \"Other\" at the front\n",
    "#             order=plot1[\"language\"].value_counts().sort_values().index, \n",
    "            order = ['Other','MATLAB','C','C++','Java','Javascript','Bash','R','SQL','Python'],\n",
    "            data=plot1,\n",
    "            palette='deep'\n",
    "           )\n",
    "for i in cat.axes:\n",
    "    for j in i:\n",
    "        j.set_xticklabels(j.get_xticklabels(), rotation=45)\n",
    "plt.savefig(\"plot1_language.png\", bbox_inches='tight')\n"
   ]
  },
  {
   "cell_type": "code",
   "execution_count": 67,
   "id": "e3907b41",
   "metadata": {},
   "outputs": [
    {
     "data": {
      "image/png": "[encoded data removed]",
      "text/plain": [
       "<Figure size 1080x360 with 3 Axes>"
      ]
     },
     "metadata": {
      "needs_background": "light"
     },
     "output_type": "display_data"
    }
   ],
   "source": [
    "# Plot for top 5 visualisation libraries/tools by senior Data Scientists all three years\n",
    "\n",
    "# df.columns.get_loc('What data visualization libraries or tools do you use on a regular basis?  (Select all that apply) - Selected Choice -  Ggplot / ggplot2')\n",
    "# => 77\n",
    "# df.columns.get_loc('What data visualization libraries or tools do you use on a regular basis?  (Select all that apply) - Selected Choice - None')\n",
    "# => 87\n",
    "plot2_q = df.iloc[:, 77:87]\n",
    "\n",
    "plot2 = pd.melt(df_ppl_grp, id_vars=['year of the answer'], value_vars= list(plot2_q.columns) + ['What data visualization libraries or tools do you use on a regular basis?  (Select all that apply) - Selected Choice - Other'], value_name='visualization libraries')\n",
    "\n",
    "plot2.dropna(inplace=True)\n",
    "\n",
    "cat = sns.catplot(kind=\"count\", col=\"year of the answer\", x=\"visualization libraries\",\n",
    "            order=plot2[\"visualization libraries\"].value_counts().sort_values().index, \n",
    "            data=plot2, \n",
    "            palette='deep'\n",
    "                 )\n",
    "for i in cat.axes:\n",
    "    for j in i:\n",
    "        j.set_xticklabels(j.get_xticklabels(), rotation=45, ha='right')\n",
    "# cat.fig.suptitle('Top 5 visualisation libraries by senior data scientists from 2019 to 2021') #ugly so unused :(\n",
    "plt.savefig(\"plot2_visualisation.png\", bbox_inches='tight')\n",
    "\n"
   ]
  },
  {
   "cell_type": "code",
   "execution_count": 68,
   "id": "63ba1af4",
   "metadata": {},
   "outputs": [],
   "source": [
    "# ••••• END OF PROBLEM 4 •••••"
   ]
  },
  {
   "cell_type": "code",
   "execution_count": 69,
   "id": "98e2089d",
   "metadata": {},
   "outputs": [],
   "source": [
    "# ----------------------- Problem 5 ----------------------- #"
   ]
  },
  {
   "cell_type": "code",
   "execution_count": 70,
   "id": "c12129cf",
   "metadata": {},
   "outputs": [
    {
     "data": {
      "text/plain": [
       "Male                       48637\n",
       "Female                     11018\n",
       "Prefer not to say            800\n",
       "Nonbinary                    135\n",
       "Prefer to self-describe      130\n",
       "Name: What is your gender? - Selected Choice, dtype: int64"
      ]
     },
     "execution_count": 70,
     "metadata": {},
     "output_type": "execute_result"
    }
   ],
   "source": [
    "# Check whether the gender data is biased \n",
    "# We can see that the gender data is biased, the data for male is over 4 times more than the data for female\n",
    "# And the data for other gender is far too little so I decided not to used the gender data with 'Prefer not to say','Nonbinary', and 'Prefer to self-describe'\n",
    "df['What is your gender? - Selected Choice'].value_counts()\n"
   ]
  },
  {
   "cell_type": "code",
   "execution_count": 71,
   "id": "51690168",
   "metadata": {},
   "outputs": [
    {
     "data": {
      "image/png": "[encoded data removed]",
      "text/plain": [
       "<Figure size 720x360 with 1 Axes>"
      ]
     },
     "metadata": {
      "needs_background": "light"
     },
     "output_type": "display_data"
    }
   ],
   "source": [
    "# The world-wide situation of the occupation of women in data science \n",
    "\n",
    "# female_job_percentage column represents the percentage of the female in a certain occupation among all female\n",
    "female_job_percentage = df.loc[df['What is your gender? - Selected Choice'] == 'Female', 'Select the title most similar to your current role (or most recent title if retired): - Selected Choice'].value_counts() / (df['What is your gender? - Selected Choice']=='Female').sum()\n",
    "female_job = pd.DataFrame({'Occupation': female_job_percentage.index, 'Percentage': round(female_job_percentage*100,2),'Gender': 'Female'})\n",
    "# male_job_percentage column represents the percentage of the male in a certain occupation among all male\n",
    "male_job_percentage = df.loc[df['What is your gender? - Selected Choice'] == 'Male', 'Select the title most similar to your current role (or most recent title if retired): - Selected Choice'].value_counts() / (df['What is your gender? - Selected Choice']=='Male').sum()\n",
    "male_job = pd.DataFrame({'Occupation': male_job_percentage.index, 'Percentage': round(male_job_percentage*100,2),'Gender': 'Male'})\n",
    "\n",
    "job_percentage = pd.concat([female_job, male_job], ignore_index=True, sort=False)\n",
    "cat = sns.catplot(x = 'Occupation',\n",
    "                  y = 'Percentage',\n",
    "           kind = 'bar',\n",
    "           order = ['Not employed', 'Other', 'Student','Data Scientist','Statistician','Research Scientist','Business Analyst','Data Analyst','Data Engineer','DBA/Database Engineer','Software Engineer','Manager'],\n",
    "           data=job_percentage,\n",
    "           hue = 'Gender',\n",
    "           legend=False,\n",
    "           height=5,\n",
    "           palette='Paired',\n",
    "           aspect=2)\n",
    "for i in cat.axes:\n",
    "    for j in i:\n",
    "        # Display the data on top of each bar\n",
    "        for container in j.containers:\n",
    "            j.bar_label(container)\n",
    "        j.set_xticklabels(j.get_xticklabels(), rotation=45, ha='right')\n",
    "        j.legend().set_title('Gender')\n",
    "plt.savefig(\"Occupation.png\", bbox_inches='tight')"
   ]
  },
  {
   "cell_type": "code",
   "execution_count": 72,
   "id": "aaf1c1d7",
   "metadata": {},
   "outputs": [
    {
     "data": {
      "image/png": "[encoded data removed]",
      "text/plain": [
       "<Figure size 720x360 with 1 Axes>"
      ]
     },
     "metadata": {
      "needs_background": "light"
     },
     "output_type": "display_data"
    }
   ],
   "source": [
    "# The world-wide situation of the yearly compensation of women in data science \n",
    "\n",
    "# female_pay_percentage column represents the percentage of the female in a each category of yearly compensation among all female\n",
    "female_pay_percentage = df.loc[df['What is your gender? - Selected Choice'] == 'Female', 'What is your current yearly compensation (approximate $USD)?'].value_counts() / (df['What is your gender? - Selected Choice']=='Female').sum()\n",
    "female_pay = pd.DataFrame({'Yearly compensation': female_pay_percentage.index, 'Percentage': female_pay_percentage*100,'Gender': 'Female'})\n",
    "# male_pay_percentage column represents the percentage of the male in a each category of yearly compensation among all male\n",
    "male_pay_percentage = df.loc[df['What is your gender? - Selected Choice'] == 'Male', 'What is your current yearly compensation (approximate $USD)?'].value_counts() / (df['What is your gender? - Selected Choice']=='Male').sum()\n",
    "male_pay = pd.DataFrame({'Yearly compensation': male_pay_percentage.index, 'Percentage': male_pay_percentage*100,'Gender': 'Male'})\n",
    "\n",
    "pay_percentage = pd.concat([female_pay, male_pay], ignore_index=True, sort=False)\n",
    "cat = sns.catplot(x = 'Yearly compensation',\n",
    "                  y = 'Percentage',\n",
    "           kind = 'bar',\n",
    "           order = ['0-999', '1,000-1,999', '2,000-2,999','3,000-3,999','4,000-4,999','5,000-7,499','7,500-9,999','10,000-14,999','15,000-19,999','20,000-24,999','25,000-29,999','30,000-39,999','40,000-49,999','50,000-59,999','60,000-69,999','70,000-79,999','80,000-89,999','90,000-99,999','100,000-124,999','125,000-149,999','150,000-199,999','200,000-249,999','300,000-500,000','> 500,000'],\n",
    "           data= pay_percentage,\n",
    "           hue = 'Gender',\n",
    "           legend=False,\n",
    "           height=5,\n",
    "           palette='Paired',\n",
    "           aspect=2)\n",
    "for i in cat.axes:\n",
    "    for j in i:\n",
    "        j.set_xticklabels(j.get_xticklabels(), rotation=45, ha='right')\n",
    "        j.legend().set_title('Gender')\n",
    "        j.set(xlabel='Yearly compensation (approximate $USD)')\n",
    "plt.savefig(\"Yearly compensation.png\", bbox_inches='tight')"
   ]
  },
  {
   "cell_type": "code",
   "execution_count": 73,
   "id": "9a73035b",
   "metadata": {},
   "outputs": [
    {
     "data": {
      "image/png": "[encoded data removed]",
      "text/plain": [
       "<Figure size 540x360 with 1 Axes>"
      ]
     },
     "metadata": {
      "needs_background": "light"
     },
     "output_type": "display_data"
    }
   ],
   "source": [
    "# The world-wide situation of years of experience of women in data science \n",
    "\n",
    "# female_expe_percentage column represents the percentage of the female in a each category of year of experience among all female\n",
    "female_expe_percentage = df.loc[df['What is your gender? - Selected Choice'] == 'Female', 'For how many years have you been writing code and/or programming?'].value_counts() / (df['What is your gender? - Selected Choice']=='Female').sum()\n",
    "female_expe = pd.DataFrame({'Years of experience': female_expe_percentage.index, 'Percentage': round(female_expe_percentage*100,2),'Gender': 'Female'})\n",
    "# male_expe_percentage column represents the percentage of the male in a each category of year of experience among all male\n",
    "male_expe_percentage = df.loc[df['What is your gender? - Selected Choice'] == 'Male', 'For how many years have you been writing code and/or programming?'].value_counts() / (df['What is your gender? - Selected Choice']=='Male').sum()\n",
    "male_expe = pd.DataFrame({'Years of experience': male_expe_percentage.index, 'Percentage': round(male_expe_percentage*100,2),'Gender': 'Male'})\n",
    "\n",
    "expe_percentage = pd.concat([female_expe, male_expe], ignore_index=True, sort=False)\n",
    "cat = sns.catplot(x = 'Years of experience',\n",
    "                  y = 'Percentage',\n",
    "           kind = 'bar',\n",
    "           order = ['0 experience', '< 1 years', '1-3 years','3-5 years','5-10 years','10-20 years','20+ years'],\n",
    "           data= expe_percentage,\n",
    "           hue = 'Gender',\n",
    "           legend=False,\n",
    "           height=5,\n",
    "           palette='Paired',\n",
    "           aspect=1.5)\n",
    "for i in cat.axes:\n",
    "    for j in i:\n",
    "        # Display the data on top of each bar\n",
    "        for container in j.containers:\n",
    "            j.bar_label(container)\n",
    "        j.legend().set_title('Gender')\n",
    "plt.savefig(\"Years of experience.png\", bbox_inches='tight')\n"
   ]
  },
  {
   "cell_type": "code",
   "execution_count": 74,
   "id": "55e26add",
   "metadata": {},
   "outputs": [
    {
     "data": {
      "image/png": "[encoded data removed]",
      "text/plain": [
       "<Figure size 540x360 with 1 Axes>"
      ]
     },
     "metadata": {
      "needs_background": "light"
     },
     "output_type": "display_data"
    }
   ],
   "source": [
    "# The world-wide situation of the qualification of women in data science \n",
    "\n",
    "# female_expe_percentage column represents the percentage of the female in a each qualification among all female\n",
    "female_edu_percentage = df.loc[df['What is your gender? - Selected Choice'] == 'Female', 'What is the highest level of formal education that you have attained or plan to attain within the next 2 years?'].value_counts() / (df['What is your gender? - Selected Choice']=='Female').sum()\n",
    "female_edu = pd.DataFrame({'Qualification': female_edu_percentage.index, 'Percentage': round(female_edu_percentage*100,2),'Gender': 'Female'})\n",
    "\n",
    "# male_edu_percentage column represents the percentage of the male in a each qualification among all male\n",
    "male_edu_percentage = df.loc[df['What is your gender? - Selected Choice'] == 'Male', 'What is the highest level of formal education that you have attained or plan to attain within the next 2 years?'].value_counts() / (df['What is your gender? - Selected Choice']=='Male').sum()\n",
    "male_edu = pd.DataFrame({'Qualification': male_edu_percentage.index, 'Percentage': round(male_edu_percentage*100,2),'Gender': 'Male'})\n",
    "\n",
    "edu_percentage = pd.concat([female_edu, male_edu], ignore_index=True, sort=False)\n",
    "cat = sns.catplot(x = 'Qualification',\n",
    "                  y = 'Percentage',\n",
    "           kind = 'bar',\n",
    "           order = ['High school', 'Undergraduate', 'Bachelor\\'s degree','Master\\'s degree','Doctoral degree','Professional doctorate'],\n",
    "           data= edu_percentage,\n",
    "           hue = 'Gender',\n",
    "           legend=False,\n",
    "           height=5,\n",
    "           palette='Paired',\n",
    "           aspect=1.5)\n",
    "for i in cat.axes:\n",
    "    \n",
    "    for j in i:\n",
    "        # Display the data on top of each bar\n",
    "        for container in j.containers:\n",
    "            j.bar_label(container)\n",
    "        j.set_xticklabels(j.get_xticklabels(), rotation=25)\n",
    "        j.legend().set_title('Gender')\n",
    "        \n",
    "    \n",
    "plt.savefig(\"Qualification.png\", bbox_inches='tight')"
   ]
  },
  {
   "cell_type": "code",
   "execution_count": 75,
   "id": "2619624d",
   "metadata": {},
   "outputs": [],
   "source": [
    "# ----- END OF PROBLEM 5 -----\n",
    "# Thank you for looking my code till here! Please have some rest for the health of your eyes! :O!\n",
    "# Drink bubble tea and have a nice day!!! :D!!!"
   ]
  }
 ],
 "metadata": {
  "kernelspec": {
   "display_name": "Python 3 (ipykernel)",
   "language": "python",
   "name": "python3"
  },
  "language_info": {
   "codemirror_mode": {
    "name": "ipython",
    "version": 3
   },
   "file_extension": ".py",
   "mimetype": "text/x-python",
   "name": "python",
   "nbconvert_exporter": "python",
   "pygments_lexer": "ipython3",
   "version": "3.8.3"
  }
 },
 "nbformat": 4,
 "nbformat_minor": 5
}
